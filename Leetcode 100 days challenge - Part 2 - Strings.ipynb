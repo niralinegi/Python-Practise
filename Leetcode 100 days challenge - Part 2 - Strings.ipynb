{
 "cells": [
  {
   "cell_type": "markdown",
   "id": "5a665acf",
   "metadata": {},
   "source": [
    "### Reverse String\n",
    "\n",
    "Write a function that reverses a string. The input string is given as an array of characters s.\n",
    "\n",
    "You must do this by modifying the input array in-place with O(1) extra memory.\n",
    "\n",
    "Example 1:\n",
    "\n",
    "Input: s = [\"h\",\"e\",\"l\",\"l\",\"o\"]\n",
    "\n",
    "Output: [\"o\",\"l\",\"l\",\"e\",\"h\"]"
   ]
  },
  {
   "cell_type": "code",
   "execution_count": 27,
   "id": "6a62524a",
   "metadata": {},
   "outputs": [
    {
     "name": "stdout",
     "output_type": "stream",
     "text": [
      "['o', 'l', 'l', 'e', 'h']\n"
     ]
    }
   ],
   "source": [
    "def revString(s):\n",
    "    res = []\n",
    "    for i in range(0,len(s)):\n",
    "        res.append(s[len(s)-i-1])\n",
    "        #print(s[i])\n",
    "        #s[i],s[len(s)-i-1] = s[len(s)-i-1], s[i]\n",
    "    return res\n",
    "\n",
    "s = [\"h\",\"e\",\"l\",\"l\",\"o\"]\n",
    "print(revString(s))"
   ]
  },
  {
   "cell_type": "code",
   "execution_count": 36,
   "id": "32227cb9",
   "metadata": {},
   "outputs": [
    {
     "data": {
      "text/plain": [
       "['o', 'l', 'l', 'e', 'h']"
      ]
     },
     "execution_count": 36,
     "metadata": {},
     "output_type": "execute_result"
    }
   ],
   "source": [
    "def revString(s):\n",
    "    for i in range(0,len(s)//2):\n",
    "        s[i], s[-i-1] = s[-i-1], s[i]\n",
    "    \n",
    "\n",
    "s = [\"h\",\"e\",\"l\",\"l\",\"o\"]\n",
    "revString(s)\n",
    "s"
   ]
  },
  {
   "cell_type": "markdown",
   "id": "a529a399",
   "metadata": {},
   "source": [
    "### Reverse Integer\n",
    "\n",
    "Given a signed 32-bit integer x, return x with its digits reversed. If reversing x causes the value to go outside the signed 32-bit integer range [-231, 231 - 1], then return 0.\n",
    "\n",
    "Assume the environment does not allow you to store 64-bit integers (signed or unsigned).\n",
    "\n",
    " \n",
    "\n",
    "Example 1:\n",
    "\n",
    "Input: x = 123\n",
    "    \n",
    "Output: 321"
   ]
  },
  {
   "cell_type": "code",
   "execution_count": 54,
   "id": "abe0ddf4",
   "metadata": {},
   "outputs": [
    {
     "name": "stdout",
     "output_type": "stream",
     "text": [
      "321\n"
     ]
    },
    {
     "data": {
      "text/plain": [
       "-321"
      ]
     },
     "execution_count": 54,
     "metadata": {},
     "output_type": "execute_result"
    }
   ],
   "source": [
    "def revInteger(x):\n",
    "    s = str(abs(x))\n",
    "    s = s.strip()\n",
    "    s = s[::-1]\n",
    "    n = int(s)\n",
    "    print(n)\n",
    "    if n >= 2** 31 -1 or n <= -2** 31:\n",
    "        return 0\n",
    "    elif x < 0:\n",
    "        return -1 * n\n",
    "    else:\n",
    "        return n\n",
    "    \n",
    "x=-123\n",
    "revInteger(x)"
   ]
  },
  {
   "cell_type": "code",
   "execution_count": 52,
   "id": "fc626443",
   "metadata": {},
   "outputs": [
    {
     "name": "stdout",
     "output_type": "stream",
     "text": [
      "321\n"
     ]
    },
    {
     "data": {
      "text/plain": [
       "-321"
      ]
     },
     "execution_count": 52,
     "metadata": {},
     "output_type": "execute_result"
    }
   ],
   "source": [
    "def reverse_integer(n):\n",
    "    y = str(abs(n))\n",
    "    y = y.strip()\n",
    "    y = y[::-1]\n",
    "    output = int(y)\n",
    "    print(output)\n",
    "    if output >= 2** 31 -1 or output <= -2** 31:\n",
    "        return 0\n",
    "    elif n < 0:\n",
    "        return -1 * output\n",
    "    else:\n",
    "        return output\n",
    "    \n",
    "x = -123\n",
    "reverse_integer(x)"
   ]
  },
  {
   "cell_type": "code",
   "execution_count": null,
   "id": "e65a7ba9",
   "metadata": {},
   "outputs": [],
   "source": []
  }
 ],
 "metadata": {
  "kernelspec": {
   "display_name": "Python 3",
   "language": "python",
   "name": "python3"
  },
  "language_info": {
   "codemirror_mode": {
    "name": "ipython",
    "version": 3
   },
   "file_extension": ".py",
   "mimetype": "text/x-python",
   "name": "python",
   "nbconvert_exporter": "python",
   "pygments_lexer": "ipython3",
   "version": "3.8.8"
  }
 },
 "nbformat": 4,
 "nbformat_minor": 5
}

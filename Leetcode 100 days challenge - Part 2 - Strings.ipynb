{
 "cells": [
  {
   "cell_type": "markdown",
   "id": "4bac6d92",
   "metadata": {},
   "source": [
    "### Reverse String\n",
    "\n",
    "Write a function that reverses a string. The input string is given as an array of characters s.\n",
    "\n",
    "You must do this by modifying the input array in-place with O(1) extra memory.\n",
    "\n",
    "Example 1:\n",
    "\n",
    "Input: s = [\"h\",\"e\",\"l\",\"l\",\"o\"]\n",
    "\n",
    "Output: [\"o\",\"l\",\"l\",\"e\",\"h\"]"
   ]
  },
  {
   "cell_type": "code",
   "execution_count": 27,
   "id": "80ab27d3",
   "metadata": {},
   "outputs": [
    {
     "name": "stdout",
     "output_type": "stream",
     "text": [
      "['o', 'l', 'l', 'e', 'h']\n"
     ]
    }
   ],
   "source": [
    "def revString(s):\n",
    "    res = []\n",
    "    for i in range(0,len(s)):\n",
    "        res.append(s[len(s)-i-1])\n",
    "        #print(s[i])\n",
    "        #s[i],s[len(s)-i-1] = s[len(s)-i-1], s[i]\n",
    "    return res\n",
    "\n",
    "s = [\"h\",\"e\",\"l\",\"l\",\"o\"]\n",
    "print(revString(s))"
   ]
  },
  {
   "cell_type": "code",
   "execution_count": 36,
   "id": "75b72d57",
   "metadata": {},
   "outputs": [
    {
     "data": {
      "text/plain": [
       "['o', 'l', 'l', 'e', 'h']"
      ]
     },
     "execution_count": 36,
     "metadata": {},
     "output_type": "execute_result"
    }
   ],
   "source": [
    "def revString(s):\n",
    "    for i in range(0,len(s)//2):\n",
    "        s[i], s[-i-1] = s[-i-1], s[i]\n",
    "    \n",
    "\n",
    "s = [\"h\",\"e\",\"l\",\"l\",\"o\"]\n",
    "revString(s)\n",
    "s"
   ]
  },
  {
   "cell_type": "markdown",
   "id": "e7fd0cb9",
   "metadata": {},
   "source": [
    "### Reverse Integer\n",
    "\n",
    "Given a signed 32-bit integer x, return x with its digits reversed. If reversing x causes the value to go outside the signed 32-bit integer range [-231, 231 - 1], then return 0.\n",
    "\n",
    "Assume the environment does not allow you to store 64-bit integers (signed or unsigned).\n",
    "\n",
    " \n",
    "\n",
    "Example 1:\n",
    "\n",
    "Input: x = 123\n",
    "    \n",
    "Output: 321"
   ]
  },
  {
   "cell_type": "code",
   "execution_count": 54,
   "id": "a384f944",
   "metadata": {},
   "outputs": [
    {
     "name": "stdout",
     "output_type": "stream",
     "text": [
      "321\n"
     ]
    },
    {
     "data": {
      "text/plain": [
       "-321"
      ]
     },
     "execution_count": 54,
     "metadata": {},
     "output_type": "execute_result"
    }
   ],
   "source": [
    "def revInteger(x):\n",
    "    s = str(abs(x))\n",
    "    s = s.strip()\n",
    "    s = s[::-1]\n",
    "    n = int(s)\n",
    "    print(n)\n",
    "    if n >= 2** 31 -1 or n <= -2** 31:\n",
    "        return 0\n",
    "    elif x < 0:\n",
    "        return -1 * n\n",
    "    else:\n",
    "        return n\n",
    "    \n",
    "x=-123\n",
    "revInteger(x)"
   ]
  },
  {
   "cell_type": "markdown",
   "id": "b39caf61",
   "metadata": {},
   "source": [
    "### First Unique Character in a String\n",
    "\n",
    "Solution\n",
    "Given a string s, find the first non-repeating character in it and return its index. If it does not exist, return -1.\n",
    "\n",
    " \n",
    "\n",
    "Example 1:\n",
    "\n",
    "Input: s = \"leetcode\"\n",
    "\n",
    "Output: 0"
   ]
  },
  {
   "cell_type": "code",
   "execution_count": 84,
   "id": "b05d61e1",
   "metadata": {},
   "outputs": [
    {
     "name": "stdout",
     "output_type": "stream",
     "text": [
      "4\n"
     ]
    }
   ],
   "source": [
    "def firstUniqChar(s):\n",
    "    count = {}\n",
    "    for ch in s:\n",
    "        count[ch] = count.get(ch,0)+1\n",
    "    \n",
    "    for a, b in enumerate(s):\n",
    "        if count[b] == 1:\n",
    "            return a\n",
    "    return -1\n",
    "\n",
    "s = \"lleetcode\"\n",
    "print(firstUniqChar(s))"
   ]
  },
  {
   "cell_type": "markdown",
   "id": "d685f845",
   "metadata": {},
   "source": [
    "### Valid Anagram\n",
    "\n",
    "Given two strings s and t, return true if t is an anagram of s, and false otherwise.\n",
    "\n",
    "Example 1:\n",
    "\n",
    "Input: s = \"anagram\", t = \"nagaram\"\n",
    "\n",
    "Output: true"
   ]
  },
  {
   "cell_type": "code",
   "execution_count": 85,
   "id": "3cf3dca5",
   "metadata": {},
   "outputs": [
    {
     "name": "stdout",
     "output_type": "stream",
     "text": [
      "True\n"
     ]
    }
   ],
   "source": [
    "def isAnagram(str1, str2):\n",
    "    if len(str1) != len(str2):\n",
    "        return False\n",
    "    \n",
    "    if sorted(str1) == sorted(str2):\n",
    "        return True\n",
    "    \n",
    "str1 = \"anagram\"\n",
    "str2 = \"nagaram\"\n",
    "\n",
    "print(isAnagram(str1, str2))"
   ]
  },
  {
   "cell_type": "markdown",
   "id": "bd601a99",
   "metadata": {},
   "source": [
    "### Valid Palindrome\n",
    "\n",
    "A phrase is a palindrome if, after converting all uppercase letters into lowercase letters and removing all non-alphanumeric characters, it reads the same forward and backward. Alphanumeric characters include letters and numbers.\n",
    "\n",
    "Given a string s, return true if it is a palindrome, or false otherwise.\n",
    "\n",
    "Input: s = \"A man, a plan, a canal: Panama\"\n",
    "\n",
    "Output: true\n",
    "\n",
    "Explanation: \"amanaplanacanalpanama\" is a palindrome.\n"
   ]
  },
  {
   "cell_type": "code",
   "execution_count": 104,
   "id": "2e27af76",
   "metadata": {},
   "outputs": [
    {
     "data": {
      "text/plain": [
       "True"
      ]
     },
     "execution_count": 104,
     "metadata": {},
     "output_type": "execute_result"
    }
   ],
   "source": [
    "def isPalindrome(s):\n",
    "    \n",
    "    p = ''\n",
    "    s = s.replace(\" \", \"\")\n",
    "    for i in s:\n",
    "        if i.isalnum():\n",
    "            p+=i.lower()\n",
    "    if p==p[::-1]:\n",
    "        return True\n",
    "    else:\n",
    "        return False\n",
    "s = \"A man, a plan, a canal: Panama\"\n",
    "isPalindrome(s)"
   ]
  },
  {
   "cell_type": "markdown",
   "id": "6148ea9d",
   "metadata": {},
   "source": [
    "### String to Integer (atoi)\n",
    "\n",
    "Implement the myAtoi(string s) function, which converts a string to a 32-bit signed integer (similar to C/C++'s atoi function).\n",
    "\n",
    "The algorithm for myAtoi(string s) is as follows:\n",
    "\n",
    "Read in and ignore any leading whitespace.\n",
    "Check if the next character (if not already at the end of the string) is '-' or '+'. Read this character in if it is either. This determines if the final result is negative or positive respectively. Assume the result is positive if neither is present.\n",
    "Read in next the characters until the next non-digit character or the end of the input is reached. The rest of the string is ignored.\n",
    "Convert these digits into an integer (i.e. \"123\" -> 123, \"0032\" -> 32). If no digits were read, then the integer is 0. Change the sign as necessary (from step 2).\n",
    "If the integer is out of the 32-bit signed integer range [-231, 231 - 1], then clamp the integer so that it remains in the range. Specifically, integers less than -231 should be clamped to -231, and integers greater than 231 - 1 should be clamped to 231 - 1.\n",
    "Return the integer as the final result.\n",
    "Note:\n",
    "\n",
    "Only the space character ' ' is considered a whitespace character.\n",
    "Do not ignore any characters other than the leading whitespace or the rest of the string after the digits.\n",
    " \n",
    "\n",
    "Example 1:\n",
    "\n",
    "Input: s = \"42\"\n",
    "\n",
    "Output: 42\n",
    "\n",
    "Explanation: The underlined characters are what is read in, the caret is the current reader position.\n",
    "\n",
    "Step 1: \"42\" (no characters read because there is no leading whitespace)\n",
    "         ^\n",
    "Step 2: \"42\" (no characters read because there is neither a '-' nor '+')\n",
    "         ^\n",
    "Step 3: \"42\" (\"42\" is read in)\n",
    "           ^\n",
    "The parsed integer is 42.\n",
    "Since 42 is in the range [-231, 231 - 1], the final result is 42.\n",
    "Example 2:\n",
    "\n",
    "Input: s = \"   -42\"\n",
    "Output: -42\n",
    "Explanation:\n",
    "Step 1: \"   -42\" (leading whitespace is read and ignored)\n",
    "            ^\n",
    "Step 2: \"   -42\" ('-' is read, so the result should be negative)\n",
    "             ^\n",
    "Step 3: \"   -42\" (\"42\" is read in)\n",
    "               ^\n",
    "The parsed integer is -42.\n",
    "Since -42 is in the range [-231, 231 - 1], the final result is -42.\n",
    "Example 3:\n",
    "\n",
    "Input: s = \"4193 with words\"\n",
    "Output: 4193\n",
    "Explanation:\n",
    "Step 1: \"4193 with words\" (no characters read because there is no leading whitespace)\n",
    "         ^\n",
    "Step 2: \"4193 with words\" (no characters read because there is neither a '-' nor '+')\n",
    "         ^\n",
    "Step 3: \"4193 with words\" (\"4193\" is read in; reading stops because the next character is a non-digit)\n",
    "             ^\n",
    "The parsed integer is 4193.\n",
    "Since 4193 is in the range [-231, 231 - 1], the final result is 4193.\n",
    "Example 4:\n",
    "\n",
    "Input: s = \"words and 987\"\n",
    "Output: 0\n",
    "Explanation:\n",
    "Step 1: \"words and 987\" (no characters read because there is no leading whitespace)\n",
    "         ^\n",
    "Step 2: \"words and 987\" (no characters read because there is neither a '-' nor '+')\n",
    "         ^\n",
    "Step 3: \"words and 987\" (reading stops immediately because there is a non-digit 'w')\n",
    "         ^\n",
    "The parsed integer is 0 because no digits were read.\n",
    "Since 0 is in the range [-231, 231 - 1], the final result is 0.\n",
    "Example 5:\n",
    "\n",
    "Input: s = \"-91283472332\"\n",
    "Output: -2147483648\n",
    "Explanation:\n",
    "Step 1: \"-91283472332\" (no characters read because there is no leading whitespace)\n",
    "         ^\n",
    "Step 2: \"-91283472332\" ('-' is read, so the result should be negative)\n",
    "          ^\n",
    "Step 3: \"-91283472332\" (\"91283472332\" is read in)\n",
    "                     ^\n",
    "The parsed integer is -91283472332.\n",
    "Since -91283472332 is less than the lower bound of the range [-231, 231 - 1], the final result is clamped to -231 = -2147483648."
   ]
  },
  {
   "cell_type": "code",
   "execution_count": 124,
   "id": "2f150129",
   "metadata": {},
   "outputs": [
    {
     "name": "stdout",
     "output_type": "stream",
     "text": [
      "0\n"
     ]
    }
   ],
   "source": [
    "def myAtoi(s):\n",
    "    negative = False\n",
    "    out = 0\n",
    "    \n",
    "    s = s.strip()\n",
    "    if len(s) == 0:\n",
    "        return 0\n",
    "    if s[0] == '-':\n",
    "        negative = True\n",
    "    elif s[0] == '+':\n",
    "        negative = False\n",
    "    elif not s[0].isnumeric():\n",
    "        return 0\n",
    "    else:\n",
    "        out = ord(s[0]) - ord(\"0\")\n",
    "    for i in range(1, len(s)):\n",
    "        if s[i].isnumeric():\n",
    "            out = out*10 + (ord(s[i]) - ord(\"0\"))\n",
    "            if not negative and out >= 2147483647:\n",
    "                return 2147483647\n",
    "            if negative and out >= 2147483648:\n",
    "                return -2147483648\n",
    "        else:\n",
    "            break\n",
    "    if not negative:\n",
    "        return out\n",
    "    else:\n",
    "        return -1*out\n",
    "    \n",
    "s = \"words and 987\"\n",
    "print(myAtoi(s))\n",
    "            "
   ]
  },
  {
   "cell_type": "markdown",
   "id": "a94228d0",
   "metadata": {},
   "source": [
    "### Implement strStr()\n",
    "\n",
    "Return the index of the first occurrence of needle in haystack, or -1 if needle is not part of haystack.\n",
    "\n",
    "Clarification:\n",
    "\n",
    "What should we return when needle is an empty string? This is a great question to ask during an interview.\n",
    "\n",
    "For the purpose of this problem, we will return 0 when needle is an empty string. This is consistent to C's strstr() and Java's indexOf().\n",
    "\n",
    " \n",
    "\n",
    "Example 1:\n",
    "\n",
    "Input: haystack = \"hello\", needle = \"ll\"\n",
    "\n",
    "Output: 2\n",
    "Example 2:\n",
    "\n",
    "Input: haystack = \"aaaaa\", needle = \"bba\"\n",
    "\n",
    "Output: -1\n",
    "Example 3:\n",
    "\n",
    "Input: haystack = \"\", needle = \"\"\n",
    "\n",
    "Output: 0"
   ]
  },
  {
   "cell_type": "code",
   "execution_count": 131,
   "id": "a6fbcc19",
   "metadata": {},
   "outputs": [
    {
     "name": "stdout",
     "output_type": "stream",
     "text": [
      "2\n"
     ]
    }
   ],
   "source": [
    "def strStr(haystack, needle):\n",
    "    if not needle:\n",
    "        return 0\n",
    "    \n",
    "    for i in range(0, len(haystack)):\n",
    "        if haystack[i: i+len(needle)] == needle:\n",
    "            return i\n",
    "    \n",
    "    return -1\n",
    "        \n",
    "haystack = \"hello\"\n",
    "needle = \"ll\"\n",
    "print(strStr(haystack, needle))"
   ]
  },
  {
   "cell_type": "markdown",
   "id": "596b8ba8",
   "metadata": {},
   "source": [
    "### Best Time to Buy and Sell Stock\n",
    "\n",
    "You are given an array prices where prices[i] is the price of a given stock on the ith day.\n",
    "\n",
    "You want to maximize your profit by choosing a single day to buy one stock and choosing a different day in the future to sell that stock.\n",
    "\n",
    "Return the maximum profit you can achieve from this transaction. If you cannot achieve any profit, return 0.\n",
    "\n",
    " \n",
    "\n",
    "Example 1:\n",
    "\n",
    "Input: prices = [7,1,5,3,6,4]\n",
    "Output: 5\n",
    "Explanation: Buy on day 2 (price = 1) and sell on day 5 (price = 6), profit = 6-1 = 5.\n",
    "Note that buying on day 2 and selling on day 1 is not allowed because you must buy before you sell.\n",
    "Example 2:\n",
    "\n",
    "Input: prices = [7,6,4,3,1]\n",
    "Output: 0\n",
    "Explanation: In this case, no transactions are done and the max profit = 0."
   ]
  },
  {
   "cell_type": "code",
   "execution_count": 173,
   "id": "42ed37c0",
   "metadata": {},
   "outputs": [
    {
     "name": "stdout",
     "output_type": "stream",
     "text": [
      "0\n",
      "5\n"
     ]
    }
   ],
   "source": [
    "def maxProfit(prices):\n",
    "        l, r = 0, 1\n",
    "        maxProfit = 0\n",
    "\n",
    "        while r < len(prices):\n",
    "            if prices[l] < prices[r]:\n",
    "                profit = prices[r] - prices[l]\n",
    "                maxProfit = max(maxProfit, profit)\n",
    "            else: \n",
    "                l = r\n",
    "            r += 1\n",
    "\n",
    "        return maxProfit\n",
    "    \n",
    "prices = [7,6,4,3,1]\n",
    "prices2 = [7,1,5,3,6,4]\n",
    "print(maxProfit(prices))\n",
    "print(maxProfit(prices2))"
   ]
  },
  {
   "cell_type": "markdown",
   "id": "06bc45f6",
   "metadata": {},
   "source": [
    "### Product of Array Except Self\n",
    "\n",
    "Given an integer array nums, return an array answer such that answer[i] is equal to the product of all the elements of nums except nums[i].\n",
    "\n",
    "The product of any prefix or suffix of nums is guaranteed to fit in a 32-bit integer.\n",
    "\n",
    "You must write an algorithm that runs in O(n) time and without using the division operation.\n",
    "\n",
    " \n",
    "Example 1:\n",
    "\n",
    "Input: nums = [1,2,3,4]\n",
    "Output: [24,12,8,6]\n",
    "Example 2:\n",
    "\n",
    "Input: nums = [-1,1,0,-3,3]\n",
    "Output: [0,0,9,0,0]\n"
   ]
  },
  {
   "cell_type": "code",
   "execution_count": 184,
   "id": "8df16e11",
   "metadata": {},
   "outputs": [
    {
     "name": "stdout",
     "output_type": "stream",
     "text": [
      "[1, 1, 1, 1]\n",
      "[1, 2, 3, 4]\n",
      "[1, 1, 2, 6]\n"
     ]
    }
   ],
   "source": [
    "def productExceptSelf(nums):\n",
    "    output = [1 for i in range(len(nums))]\n",
    "    print(output)\n",
    "    print(nums)\n",
    "    for i in range(1,len(nums)):\n",
    "        output[i] = output[i-1]*nums[i-1]\n",
    "    print(output)\n",
    "\n",
    "nums = [1,2,3,4]\n",
    "productExceptSelf(nums)"
   ]
  },
  {
   "cell_type": "markdown",
   "id": "479dc193",
   "metadata": {},
   "source": [
    "### Maximum Subarray\n",
    "Given an integer array nums, find the contiguous subarray (containing at least one number) which has the largest sum and return its sum.\n",
    "\n",
    "A subarray is a contiguous part of an array.\n",
    "\n",
    " \n",
    "\n",
    "Example 1:\n",
    "\n",
    "Input: nums = [-2,1,-3,4,-1,2,1,-5,4]\n",
    "Output: 6\n",
    "Explanation: [4,-1,2,1] has the largest sum = 6.\n",
    "Example 2:\n",
    "\n",
    "Input: nums = [1]\n",
    "Output: 1\n",
    "Example 3:\n",
    "\n",
    "Input: nums = [5,4,-1,7,8]\n",
    "Output: 23"
   ]
  },
  {
   "cell_type": "code",
   "execution_count": 2,
   "id": "11cf6b42",
   "metadata": {},
   "outputs": [
    {
     "name": "stdout",
     "output_type": "stream",
     "text": [
      "6\n"
     ]
    }
   ],
   "source": [
    "def maxSubArray(nums):\n",
    "    cur_sum = nums[0]\n",
    "    mx = nums[0]\n",
    "        \n",
    "    for i in range(1, len(nums)):\n",
    "        cur_sum = max(cur_sum+nums[i], nums[i])\n",
    "        mx = max(cur_sum, mx)\n",
    "            \n",
    "    return mx\n",
    "\n",
    "nums = [-2,1,-3,4,-1,2,1,-5,4] \n",
    "print(maxSubArray(nums))"
   ]
  },
  {
   "cell_type": "markdown",
   "id": "70d86b76",
   "metadata": {},
   "source": [
    "### Maximum Product Subarray"
   ]
  },
  {
   "cell_type": "markdown",
   "id": "370c2d35",
   "metadata": {},
   "source": [
    "Given an integer array nums, find a contiguous non-empty subarray within the array that has the largest product, and return the product.\n",
    "\n",
    "The test cases are generated so that the answer will fit in a 32-bit integer.\n",
    "\n",
    "A subarray is a contiguous subsequence of the array.\n",
    "\n",
    "Example 1:\n",
    "\n",
    "Input: nums = [2,3,-2,4]\n",
    "Output: 6\n",
    "Explanation: [2,3] has the largest product 6.\n",
    "    \n",
    "Example 2:\n",
    "\n",
    "Input: nums = [-2,0,-1]\n",
    "Output: 0\n",
    "Explanation: The result cannot be 2, because [-2,-1] is not a subarray."
   ]
  },
  {
   "cell_type": "code",
   "execution_count": null,
   "id": "de15aa13",
   "metadata": {},
   "outputs": [],
   "source": []
  },
  {
   "cell_type": "markdown",
   "id": "c33276eb",
   "metadata": {},
   "source": [
    "### 283. Move Zeroes\n",
    "Given an integer array nums, move all 0's to the end of it while maintaining the relative order of the non-zero elements.\n",
    "\n",
    "Note that you must do this in-place without making a copy of the array.\n",
    "\n",
    "Example 1:\n",
    "\n",
    "Input: nums = [0,1,0,3,12]\n",
    "Output: [1,3,12,0,0]\n",
    "Example 2:\n",
    "\n",
    "Input: nums = [0]\n",
    "Output: [0]"
   ]
  },
  {
   "cell_type": "code",
   "execution_count": 16,
   "id": "d6b43aa0",
   "metadata": {},
   "outputs": [
    {
     "data": {
      "text/plain": [
       "[1, 3, 12, 0, 0]"
      ]
     },
     "execution_count": 16,
     "metadata": {},
     "output_type": "execute_result"
    }
   ],
   "source": [
    "def moveZeroes(nums):\n",
    "    l = 0\n",
    "    for r in range(len(nums)):\n",
    "        if nums[r]:\n",
    "            nums[l], nums[r] = nums[r], nums[l]\n",
    "            l += 1\n",
    "            \n",
    "    return nums\n",
    "\n",
    "nums = [0,1,0,3,12] \n",
    "moveZeroes(nums)"
   ]
  },
  {
   "cell_type": "markdown",
   "id": "6b0cd8dc",
   "metadata": {},
   "source": [
    "### 217. Contains Duplicate\n",
    "Given an integer array nums, return true if any value appears at least twice in the array, and return false if every element is distinct.\n",
    "\n",
    "Example 1:\n",
    "\n",
    "Input: nums = [1,2,3,1]\n",
    "Output: true\n",
    "Example 2:\n",
    "\n",
    "Input: nums = [1,2,3,4]\n",
    "Output: false\n",
    "Example 3:\n",
    "\n",
    "Input: nums = [1,1,1,3,3,4,3,2,4,2]\n",
    "Output: true"
   ]
  },
  {
   "cell_type": "code",
   "execution_count": 22,
   "id": "0a4c94b7",
   "metadata": {},
   "outputs": [
    {
     "name": "stdout",
     "output_type": "stream",
     "text": [
      "True\n",
      "False\n",
      "True\n"
     ]
    }
   ],
   "source": [
    "def containsDup(nums):\n",
    "    return len(nums) != len(set(nums))\n",
    "    \n",
    "nums1 = [1,2,3,1] \n",
    "nums2 = [1,2,3,4] \n",
    "nums3 = [1,1,1,3,3,4,3,2,4,2] \n",
    "\n",
    "print(containsDup(nums1))\n",
    "print(containsDup(nums2))\n",
    "print(containsDup(nums3))"
   ]
  },
  {
   "cell_type": "markdown",
   "id": "29905bcd",
   "metadata": {},
   "source": [
    "### Count and Say\n",
    "The count-and-say sequence is a sequence of digit strings defined by the recursive formula:\n",
    "\n",
    "countAndSay(1) = \"1\"\n",
    "countAndSay(n) is the way you would \"say\" the digit string from countAndSay(n-1), which is then converted into a different digit string.\n",
    "To determine how you \"say\" a digit string, split it into the minimal number of groups so that each group is a contiguous section all of the same character. Then for each group, say the number of characters, then say the character. To convert the saying into a digit string, replace the counts with a number and concatenate every saying.\n",
    "\n",
    "Example 1:\n",
    "\n",
    "Input: n = 1\n",
    "Output: \"1\"\n",
    "Explanation: This is the base case.\n",
    "Example 2:\n",
    "\n",
    "Input: n = 4\n",
    "Output: \"1211\"\n",
    "Explanation:\n",
    "countAndSay(1) = \"1\"\n",
    "countAndSay(2) = say \"1\" = one 1 = \"11\"\n",
    "countAndSay(3) = say \"11\" = two 1's = \"21\"\n",
    "countAndSay(4) = say \"21\" = one 2 + one 1 = \"12\" + \"11\" = \"1211\""
   ]
  },
  {
   "cell_type": "code",
   "execution_count": 1,
   "id": "10b40c24",
   "metadata": {},
   "outputs": [
    {
     "ename": "SyntaxError",
     "evalue": "invalid syntax (<ipython-input-1-2239a29ba4aa>, line 11)",
     "output_type": "error",
     "traceback": [
      "\u001b[1;36m  File \u001b[1;32m\"<ipython-input-1-2239a29ba4aa>\"\u001b[1;36m, line \u001b[1;32m11\u001b[0m\n\u001b[1;33m    for i in range(l)\u001b[0m\n\u001b[1;37m                     ^\u001b[0m\n\u001b[1;31mSyntaxError\u001b[0m\u001b[1;31m:\u001b[0m invalid syntax\n"
     ]
    }
   ],
   "source": [
    "n = 4\n",
    "class Solution:\n",
    "    def countAndSay(self, n):\n",
    "        if n == 1:\n",
    "            return \"1\"\n",
    "        \n",
    "        res = \"\"\n",
    "        cnt = 0\n",
    "        for i in range(0, len(n)):\n",
    "            if n[i]"
   ]
  },
  {
   "cell_type": "markdown",
   "id": "7ebe69ca",
   "metadata": {},
   "source": [
    "### Longest Common Prefix"
   ]
  },
  {
   "cell_type": "markdown",
   "id": "2fe2eab4",
   "metadata": {},
   "source": [
    "Write a function to find the longest common prefix string amongst an array of strings.\n",
    "\n",
    "If there is no common prefix, return an empty string \"\".\n",
    "\n",
    " \n",
    "\n",
    "Example 1:\n",
    "\n",
    "Input: strs = [\"flower\",\"flow\",\"flight\"]\n",
    "Output: \"fl\"\n",
    "Example 2:\n",
    "\n",
    "Input: strs = [\"dog\",\"racecar\",\"car\"]\n",
    "Output: \"\"\n",
    "Explanation: There is no common prefix among the input strings"
   ]
  },
  {
   "cell_type": "code",
   "execution_count": 14,
   "id": "31a4d071",
   "metadata": {},
   "outputs": [
    {
     "name": "stdout",
     "output_type": "stream",
     "text": [
      "f f\n",
      "f f\n",
      "f f\n",
      "l l\n",
      "l l\n",
      "l l\n",
      "o o\n",
      "o o\n",
      "i o\n"
     ]
    },
    {
     "data": {
      "text/plain": [
       "'fl'"
      ]
     },
     "execution_count": 14,
     "metadata": {},
     "output_type": "execute_result"
    }
   ],
   "source": [
    "strs = [\"flower\",\"flow\",\"flight\"] \n",
    "\n",
    "def longestCommonPrefix(strs):\n",
    "    res = ''\n",
    "    for i in range(0, len(strs[0])):\n",
    "        for s in strs:\n",
    "            print(s[i], strs[0][i])\n",
    "            if i==len(s) or s[i]!=strs[0][i]:\n",
    "                #print(s[i], strs[0][i])\n",
    "                return res\n",
    "        res += strs[0][i]\n",
    "        #print(strs[0][i], res)\n",
    "    return res\n",
    "        \n",
    "longestCommonPrefix(strs)"
   ]
  },
  {
   "cell_type": "code",
   "execution_count": null,
   "id": "14caf707",
   "metadata": {},
   "outputs": [],
   "source": []
  }
 ],
 "metadata": {
  "kernelspec": {
   "display_name": "Python 3",
   "language": "python",
   "name": "python3"
  },
  "language_info": {
   "codemirror_mode": {
    "name": "ipython",
    "version": 3
   },
   "file_extension": ".py",
   "mimetype": "text/x-python",
   "name": "python",
   "nbconvert_exporter": "python",
   "pygments_lexer": "ipython3",
   "version": "3.8.8"
  }
 },
 "nbformat": 4,
 "nbformat_minor": 5
}

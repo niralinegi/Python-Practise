{
 "cells": [
  {
   "cell_type": "markdown",
   "id": "7569ba5f",
   "metadata": {},
   "source": [
    "### Reverse String\n",
    "\n",
    "Write a function that reverses a string. The input string is given as an array of characters s.\n",
    "\n",
    "You must do this by modifying the input array in-place with O(1) extra memory.\n",
    "\n",
    "Example 1:\n",
    "\n",
    "Input: s = [\"h\",\"e\",\"l\",\"l\",\"o\"]\n",
    "\n",
    "Output: [\"o\",\"l\",\"l\",\"e\",\"h\"]"
   ]
  },
  {
   "cell_type": "code",
   "execution_count": 27,
   "id": "cf69e098",
   "metadata": {},
   "outputs": [
    {
     "name": "stdout",
     "output_type": "stream",
     "text": [
      "['o', 'l', 'l', 'e', 'h']\n"
     ]
    }
   ],
   "source": [
    "def revString(s):\n",
    "    res = []\n",
    "    for i in range(0,len(s)):\n",
    "        res.append(s[len(s)-i-1])\n",
    "        #print(s[i])\n",
    "        #s[i],s[len(s)-i-1] = s[len(s)-i-1], s[i]\n",
    "    return res\n",
    "\n",
    "s = [\"h\",\"e\",\"l\",\"l\",\"o\"]\n",
    "print(revString(s))"
   ]
  },
  {
   "cell_type": "code",
   "execution_count": 36,
   "id": "54fa7ab7",
   "metadata": {},
   "outputs": [
    {
     "data": {
      "text/plain": [
       "['o', 'l', 'l', 'e', 'h']"
      ]
     },
     "execution_count": 36,
     "metadata": {},
     "output_type": "execute_result"
    }
   ],
   "source": [
    "def revString(s):\n",
    "    for i in range(0,len(s)//2):\n",
    "        s[i], s[-i-1] = s[-i-1], s[i]\n",
    "    \n",
    "\n",
    "s = [\"h\",\"e\",\"l\",\"l\",\"o\"]\n",
    "revString(s)\n",
    "s"
   ]
  },
  {
   "cell_type": "markdown",
   "id": "b7a64123",
   "metadata": {},
   "source": [
    "### Reverse Integer\n",
    "\n",
    "Given a signed 32-bit integer x, return x with its digits reversed. If reversing x causes the value to go outside the signed 32-bit integer range [-231, 231 - 1], then return 0.\n",
    "\n",
    "Assume the environment does not allow you to store 64-bit integers (signed or unsigned).\n",
    "\n",
    " \n",
    "\n",
    "Example 1:\n",
    "\n",
    "Input: x = 123\n",
    "    \n",
    "Output: 321"
   ]
  },
  {
   "cell_type": "code",
   "execution_count": 54,
   "id": "c2ada961",
   "metadata": {},
   "outputs": [
    {
     "name": "stdout",
     "output_type": "stream",
     "text": [
      "321\n"
     ]
    },
    {
     "data": {
      "text/plain": [
       "-321"
      ]
     },
     "execution_count": 54,
     "metadata": {},
     "output_type": "execute_result"
    }
   ],
   "source": [
    "def revInteger(x):\n",
    "    s = str(abs(x))\n",
    "    s = s.strip()\n",
    "    s = s[::-1]\n",
    "    n = int(s)\n",
    "    print(n)\n",
    "    if n >= 2** 31 -1 or n <= -2** 31:\n",
    "        return 0\n",
    "    elif x < 0:\n",
    "        return -1 * n\n",
    "    else:\n",
    "        return n\n",
    "    \n",
    "x=-123\n",
    "revInteger(x)"
   ]
  },
  {
   "cell_type": "markdown",
   "id": "4f14dc13",
   "metadata": {},
   "source": [
    "### First Unique Character in a String\n",
    "\n",
    "Solution\n",
    "Given a string s, find the first non-repeating character in it and return its index. If it does not exist, return -1.\n",
    "\n",
    " \n",
    "\n",
    "Example 1:\n",
    "\n",
    "Input: s = \"leetcode\"\n",
    "\n",
    "Output: 0"
   ]
  },
  {
   "cell_type": "code",
   "execution_count": 84,
   "id": "e4dccbc0",
   "metadata": {},
   "outputs": [
    {
     "name": "stdout",
     "output_type": "stream",
     "text": [
      "4\n"
     ]
    }
   ],
   "source": [
    "def firstUniqChar(s):\n",
    "    count = {}\n",
    "    for ch in s:\n",
    "        count[ch] = count.get(ch,0)+1\n",
    "    \n",
    "    for a, b in enumerate(s):\n",
    "        if count[b] == 1:\n",
    "            return a\n",
    "    return -1\n",
    "\n",
    "s = \"lleetcode\"\n",
    "print(firstUniqChar(s))"
   ]
  },
  {
   "cell_type": "markdown",
   "id": "5aef20e5",
   "metadata": {},
   "source": [
    "### Valid Anagram\n",
    "\n",
    "Given two strings s and t, return true if t is an anagram of s, and false otherwise.\n",
    "\n",
    "Example 1:\n",
    "\n",
    "Input: s = \"anagram\", t = \"nagaram\"\n",
    "\n",
    "Output: true"
   ]
  },
  {
   "cell_type": "code",
   "execution_count": 85,
   "id": "4a10e3a9",
   "metadata": {},
   "outputs": [
    {
     "name": "stdout",
     "output_type": "stream",
     "text": [
      "True\n"
     ]
    }
   ],
   "source": [
    "def isAnagram(str1, str2):\n",
    "    if len(str1) != len(str2):\n",
    "        return False\n",
    "    \n",
    "    if sorted(str1) == sorted(str2):\n",
    "        return True\n",
    "    \n",
    "str1 = \"anagram\"\n",
    "str2 = \"nagaram\"\n",
    "\n",
    "print(isAnagram(str1, str2))"
   ]
  },
  {
   "cell_type": "markdown",
   "id": "84664c30",
   "metadata": {},
   "source": [
    "### Valid Palindrome\n",
    "\n",
    "A phrase is a palindrome if, after converting all uppercase letters into lowercase letters and removing all non-alphanumeric characters, it reads the same forward and backward. Alphanumeric characters include letters and numbers.\n",
    "\n",
    "Given a string s, return true if it is a palindrome, or false otherwise.\n",
    "\n",
    "Input: s = \"A man, a plan, a canal: Panama\"\n",
    "\n",
    "Output: true\n",
    "\n",
    "Explanation: \"amanaplanacanalpanama\" is a palindrome.\n"
   ]
  },
  {
   "cell_type": "code",
   "execution_count": 104,
   "id": "286bd47b",
   "metadata": {},
   "outputs": [
    {
     "data": {
      "text/plain": [
       "True"
      ]
     },
     "execution_count": 104,
     "metadata": {},
     "output_type": "execute_result"
    }
   ],
   "source": [
    "def isPalindrome(s):\n",
    "    \n",
    "    p = ''\n",
    "    s = s.replace(\" \", \"\")\n",
    "    for i in s:\n",
    "        if i.isalnum():\n",
    "            p+=i.lower()\n",
    "    if p==p[::-1]:\n",
    "        return True\n",
    "    else:\n",
    "        return False\n",
    "s = \"A man, a plan, a canal: Panama\"\n",
    "isPalindrome(s)"
   ]
  },
  {
   "cell_type": "code",
   "execution_count": null,
   "id": "f171fce0",
   "metadata": {},
   "outputs": [],
   "source": []
  }
 ],
 "metadata": {
  "kernelspec": {
   "display_name": "Python 3",
   "language": "python",
   "name": "python3"
  },
  "language_info": {
   "codemirror_mode": {
    "name": "ipython",
    "version": 3
   },
   "file_extension": ".py",
   "mimetype": "text/x-python",
   "name": "python",
   "nbconvert_exporter": "python",
   "pygments_lexer": "ipython3",
   "version": "3.8.8"
  }
 },
 "nbformat": 4,
 "nbformat_minor": 5
}

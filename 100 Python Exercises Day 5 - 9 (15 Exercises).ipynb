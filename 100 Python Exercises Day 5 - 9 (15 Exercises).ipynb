{
 "cells": [
  {
   "cell_type": "markdown",
   "metadata": {},
   "source": [
    "# 100 Python Exercises Day 5 - 8 (15 Exercises)"
   ]
  },
  {
   "cell_type": "markdown",
   "metadata": {},
   "source": [
    "<b>Question 16:\n",
    "Use a list comprehension to square each odd number in a list. The list is input by a sequence of comma-separated numbers. </b>\n",
    "Suppose the following input is supplied to the program:\n",
    "\n",
    "1,2,3,4,5,6,7,8,9\n",
    "Then, the output should be:\n",
    "\n",
    "1,9,25,49,81"
   ]
  },
  {
   "cell_type": "code",
   "execution_count": 15,
   "metadata": {},
   "outputs": [
    {
     "name": "stdout",
     "output_type": "stream",
     "text": [
      "Enter comma-separated numbers: 1,2,3,4,5,6,7,8,9\n",
      "1,9,25,49,81\n"
     ]
    }
   ],
   "source": [
    "res = []\n",
    "\n",
    "\n",
    "nums = input('Enter comma-separated numbers: ').split(',')\n",
    "res = [str(int(i)**2) for i in nums if int(i) % 2 != 0]\n",
    "print(\",\".join(res))"
   ]
  },
  {
   "cell_type": "markdown",
   "metadata": {},
   "source": [
    "<b> Question 17:\n",
    "Write a program that computes the net amount of a bank account based a transaction log from console input. The transaction log format is shown as following:\n",
    "\n",
    "D 100\n",
    "W 200\n",
    "D means deposit while W means withdrawal. </b>\n",
    "Suppose the following input is supplied to the program:\n",
    "\n",
    "D 300\n",
    "D 300\n",
    "W 200\n",
    "D 100\n",
    "Then, the output should be:\n",
    "\n",
    "500"
   ]
  },
  {
   "cell_type": "code",
   "execution_count": 237,
   "metadata": {},
   "outputs": [
    {
     "name": "stdout",
     "output_type": "stream",
     "text": [
      "D 100\n",
      "W 200\n",
      "D 100\n",
      "\n",
      "0\n"
     ]
    }
   ],
   "source": [
    "total = 0\n",
    "\n",
    "while True:\n",
    "    s = input().split()\n",
    "    \n",
    "    if not s:\n",
    "        break\n",
    "        \n",
    "    cm, num = map(str, s)\n",
    "    \n",
    "    if cm == 'D':\n",
    "        total += int(num)\n",
    "    if cm == 'W':\n",
    "        total -= int(num)\n",
    "    \n",
    "print(total)"
   ]
  },
  {
   "cell_type": "markdown",
   "metadata": {},
   "source": [
    "# Day 6"
   ]
  },
  {
   "cell_type": "markdown",
   "metadata": {},
   "source": [
    "<b>Question 18:\n",
    "A website requires the users to input username and password to register. Write a program to check the validity of password input by users.\n",
    "\n",
    "Following are the criteria for checking the password:\n",
    "\n",
    "At least 1 letter between [a-z]\n",
    "At least 1 number between [0-9]\n",
    "At least 1 letter between [A-Z]\n",
    "At least 1 character from [$#@]\n",
    "Minimum length of transaction password: 6\n",
    "Maximum length of transaction password: 12\n",
    "Your program should accept a sequence of comma separated passwords and will check them according to the above criteria. Passwords that match the criteria are to be printed, each separated by a comma.\n",
    "</b>\n",
    "Example\n",
    "\n",
    "If the following passwords are given as input to the program:\n",
    "\n",
    "ABd1234@1,a F1#,2w3E*,2We3345\n",
    "Then, the output of the program should be:\n",
    "\n",
    "ABd1234@1"
   ]
  },
  {
   "cell_type": "code",
   "execution_count": 101,
   "metadata": {},
   "outputs": [
    {
     "name": "stdout",
     "output_type": "stream",
     "text": [
      "Enter passwords in comma separated values: ABd1234@1,a F1#,2w3E*,2We3345\n",
      "['ABd1234@1']\n"
     ]
    }
   ],
   "source": [
    "import re\n",
    "\n",
    "reg = r\"^((?=.*[a-zA-Z0-9])(?=.*[$#@])).{6,12}$\"\n",
    "pattern = re.compile(reg)\n",
    "res = []\n",
    "\n",
    "paswd = input('Enter passwords in comma separated values: ').split(',')\n",
    "    \n",
    "for i in paswd:\n",
    "    if re.match(pattern, i):\n",
    "        res.append(i)\n",
    "        \n",
    "print(res)\n",
    "    \n",
    "    \n",
    "    \n",
    "        "
   ]
  },
  {
   "cell_type": "markdown",
   "metadata": {},
   "source": [
    "<b>Question 19:\n",
    "You are required to write a program to sort the (name, age, score) tuples by ascending order where name is string, age and score are numbers. The tuples are input by console. The sort criteria is:\n",
    "\n",
    "1: Sort based on name\n",
    "2: Then sort based on age\n",
    "3: Then sort by score\n",
    "The priority is that name > age > score.\n",
    "</b>\n",
    "If the following tuples are given as input to the program:\n",
    "\n",
    "Tom,19,80\n",
    "John,20,90\n",
    "Jony,17,91\n",
    "Jony,17,93\n",
    "Json,21,85\n",
    "Then, the output of the program should be:\n",
    "\n",
    "[('John', '20', '90'), ('Jony', '17', '91'), ('Jony', '17', '93'), ('Json', '21', '85'), ('Tom', '19', '80')]"
   ]
  },
  {
   "cell_type": "code",
   "execution_count": 120,
   "metadata": {},
   "outputs": [
    {
     "name": "stdout",
     "output_type": "stream",
     "text": [
      "Enter name, age, score in that orderTom,19,80 John,20,90 Jony,17,91 Jony,17,93 Json,21,85\n"
     ]
    },
    {
     "data": {
      "text/plain": [
       "[('John', '20', '90'),\n",
       " ('Jony', '17', '91'),\n",
       " ('Jony', '17', '93'),\n",
       " ('Json', '21', '85'),\n",
       " ('Tom', '19', '80')]"
      ]
     },
     "execution_count": 120,
     "metadata": {},
     "output_type": "execute_result"
    }
   ],
   "source": [
    "data = input('Enter name, age, score in that order').split()\n",
    "elements = []\n",
    "for item in data:\n",
    "    elements.append(tuple(item.split(',')))\n",
    "    \n",
    "elements.sort(key = lambda x:(x[0], x[1], x[2]))\n",
    "elements"
   ]
  },
  {
   "cell_type": "markdown",
   "metadata": {},
   "source": [
    "<b> Day 7 </b>"
   ]
  },
  {
   "cell_type": "markdown",
   "metadata": {},
   "source": [
    "<b> Question 20:\n",
    "Define a class with a generator which can iterate the numbers, which are divisible by 7, between a given range 0 and n.\n",
    "</b>\n",
    "Suppose the following input is supplied to the program:\n",
    "\n",
    "7\n",
    "Then, the output should be:\n",
    "\n",
    "0\n",
    "7\n",
    "14\n",
    "Hints:\n",
    "Consider use class, function and comprehension."
   ]
  },
  {
   "cell_type": "code",
   "execution_count": 150,
   "metadata": {},
   "outputs": [
    {
     "name": "stdout",
     "output_type": "stream",
     "text": [
      "Enter a number: 20\n",
      "0\n",
      "7\n",
      "14\n"
     ]
    }
   ],
   "source": [
    "class Divisible:\n",
    "\n",
    "    def div_by_7(self, num):\n",
    "        for n in range(0, num+1):\n",
    "            if n % 7 == 0:\n",
    "                yield n\n",
    "                \n",
    "        \n",
    "result = Divisible()\n",
    "generator = result.div_by_7(int(input('Enter a number: ')))\n",
    "    \n",
    "for i in generator:\n",
    "    print(i)\n",
    "        "
   ]
  },
  {
   "cell_type": "markdown",
   "metadata": {},
   "source": [
    "<b>Question 21:\n",
    "A robot moves in a plane starting from the original point (0,0). The robot can move toward UP, DOWN, LEFT and RIGHT with a given steps. The trace of robot movement is shown as the following:\n",
    "\n",
    "UP 5\n",
    "DOWN 3\n",
    "LEFT 3\n",
    "RIGHT 2\n",
    "The numbers after the direction are steps. Please write a program to compute the distance from current position after a sequence of movement and original point. If the distance is a float, then just print the nearest integer. Example: If the following tuples are given as input to the program:\n",
    "</b>\n",
    "UP 5\n",
    "DOWN 3\n",
    "LEFT 3\n",
    "RIGHT 2\n",
    "Then, the output of the program should be:\n",
    "\n",
    "5"
   ]
  },
  {
   "cell_type": "code",
   "execution_count": 156,
   "metadata": {},
   "outputs": [
    {
     "name": "stdout",
     "output_type": "stream",
     "text": [
      "UP 5 DOWN 3 LEFT 3 RIGHT 2\n",
      "\n",
      "5\n"
     ]
    }
   ],
   "source": [
    "import math\n",
    "\n",
    "x,y = 0, 0\n",
    "\n",
    "while True:\n",
    "    s = input().split()\n",
    "    \n",
    "    if not s:\n",
    "        break\n",
    "    \n",
    "    if s[0]=='UP':\n",
    "        x -= int(s[1])\n",
    "    \n",
    "    if s[0] == 'DOWN':\n",
    "        x += int(s[1])\n",
    "    \n",
    "    if s[0] == 'LEFT':\n",
    "        y -= int(s[1])\n",
    "        \n",
    "    if s[1] == 'RIGHT':\n",
    "        y += int(s[1])\n",
    "        \n",
    "\n",
    "dist = round(math.sqrt(x ** 2 + y ** 2))\n",
    "print(dist)"
   ]
  },
  {
   "cell_type": "markdown",
   "metadata": {},
   "source": [
    "<b> Day 8 </b>"
   ]
  },
  {
   "cell_type": "markdown",
   "metadata": {},
   "source": [
    "<b>Question 22:\n",
    "Write a program to compute the frequency of the words from the input. The output should output after sorting the key alphanumerically.\n",
    "</b>\n",
    "Suppose the following input is supplied to the program:\n",
    "\n",
    "New to Python or choosing between Python 2 and Python 3? Read Python 2 or Python 3.\n",
    "Then, the output should be:\n",
    "\n",
    "2:2\n",
    "3.:1\n",
    "3?:1\n",
    "New:1\n",
    "Python:5\n",
    "Read:1\n",
    "and:1\n",
    "between:1\n",
    "choosing:1\n",
    "or:2\n",
    "to:1"
   ]
  },
  {
   "cell_type": "code",
   "execution_count": 176,
   "metadata": {},
   "outputs": [
    {
     "name": "stdout",
     "output_type": "stream",
     "text": [
      "Enter the sentence: New to Python or choosing between Python 2 and Python 3? Read Python 2 or Python 3.\n",
      "2:1\n",
      "3.:1\n",
      "3?:1\n",
      "New:1\n",
      "Python:1\n",
      "Read:1\n",
      "and:1\n",
      "between:1\n",
      "choosing:1\n",
      "or:1\n",
      "to:1\n"
     ]
    }
   ],
   "source": [
    "sent = input('Enter the sentence: ').split()\n",
    "word = sorted(set(sent))\n",
    "\n",
    "for i in word:\n",
    "    print('{0}:{1}'.format(i, word.count(i)))\n",
    "    "
   ]
  },
  {
   "cell_type": "markdown",
   "metadata": {},
   "source": [
    "<b>Question 23:\n",
    "Write a method which can calculate square value of number\n",
    "</b>\n",
    "Hints:\n",
    "Using the ** operator which can be written as n**p where means n^p"
   ]
  },
  {
   "cell_type": "code",
   "execution_count": 193,
   "metadata": {},
   "outputs": [
    {
     "name": "stdout",
     "output_type": "stream",
     "text": [
      "Enter the number and power as comma separate values: 2,4\n",
      "16\n"
     ]
    }
   ],
   "source": [
    "def find_square(num, p):\n",
    "    res = num**p\n",
    "    return res\n",
    "    \n",
    "\n",
    "num, p = input('Enter the number and power as comma separate values: ').split(',')\n",
    "print(find_square(int(num), int(p)))"
   ]
  },
  {
   "cell_type": "markdown",
   "metadata": {},
   "source": [
    "<b>Question 24:\n",
    "Python has many built-in functions, and if you do not know how to use it, you can read document online or find some books. But Python has a built-in document function for every built-in functions.\n",
    "\n",
    "Please write a program to print some Python built-in functions documents, such as abs(), int(), raw_input()\n",
    "\n",
    "And add document for your own function\n",
    "</b>\n",
    "Hints:\n",
    "The built-in document method is __doc__"
   ]
  },
  {
   "cell_type": "code",
   "execution_count": 194,
   "metadata": {},
   "outputs": [
    {
     "name": "stdout",
     "output_type": "stream",
     "text": [
      "str(object='') -> str\n",
      "str(bytes_or_buffer[, encoding[, errors]]) -> str\n",
      "\n",
      "Create a new string object from the given object. If encoding or\n",
      "errors is specified, then the object must expose a data buffer\n",
      "that will be decoded using the given encoding and error handler.\n",
      "Otherwise, returns the result of object.__str__() (if defined)\n",
      "or repr(object).\n",
      "encoding defaults to sys.getdefaultencoding().\n",
      "errors defaults to 'strict'.\n",
      "Return a new list containing all items from the iterable in ascending order.\n",
      "\n",
      "A custom key function can be supplied to customize the sort order, and the\n",
      "reverse flag can be set to request the result in descending order.\n",
      "81\n",
      "\n",
      "    param n: This is any integer number\n",
      "    param p: This is power over n\n",
      "    return:  n to the power p = n^p\n",
      "    \n"
     ]
    }
   ],
   "source": [
    "print(str.__doc__)\n",
    "print(sorted.__doc__)\n",
    "\n",
    "def pow(n,p):\n",
    "    '''\n",
    "    param n: This is any integer number\n",
    "    param p: This is power over n\n",
    "    return:  n to the power p = n^p\n",
    "    '''\n",
    "\n",
    "    return n**p\n",
    "\n",
    "print(pow(3,4))\n",
    "print(pow.__doc__)"
   ]
  },
  {
   "cell_type": "markdown",
   "metadata": {},
   "source": [
    "<b>Question 25\n",
    "\n",
    "Define a class, which have a class parameter and have a same instance parameter.\n",
    "</b>"
   ]
  },
  {
   "cell_type": "code",
   "execution_count": 203,
   "metadata": {},
   "outputs": [
    {
     "name": "stdout",
     "output_type": "stream",
     "text": [
      "20\n",
      "10\n"
     ]
    }
   ],
   "source": [
    "class Parameters:\n",
    "    p1 = 10 #this is a class parameter\n",
    "    \n",
    "    def __init__(self):\n",
    "        self.p1 = 20 # this is an instance parameter\n",
    "        \n",
    "obj1 = Parameters()\n",
    "print(obj1.p1)     \n",
    "print(Parameters.p1)"
   ]
  },
  {
   "cell_type": "code",
   "execution_count": 204,
   "metadata": {},
   "outputs": [
    {
     "name": "stdout",
     "output_type": "stream",
     "text": [
      "Car name is Honda\n",
      "Car name is Toyota\n"
     ]
    }
   ],
   "source": [
    "class Car:\n",
    "    name = \"Car\"\n",
    "\n",
    "    def __init__(self,name = None):\n",
    "        self.name = name\n",
    "\n",
    "honda=Car(\"Honda\")\n",
    "print(\"%s name is %s\"%(Car.name,honda.name))\n",
    "\n",
    "toyota=Car()\n",
    "toyota.name=\"Toyota\"\n",
    "print(\"%s name is %s\"%(Car.name,toyota.name))"
   ]
  },
  {
   "cell_type": "markdown",
   "metadata": {},
   "source": [
    "<b>Day 9 </b>"
   ]
  },
  {
   "cell_type": "markdown",
   "metadata": {},
   "source": [
    "<b>Question 26\n",
    "Define a function which can compute the sum of two numbers.\n",
    "</b>\n",
    "Hints:\n",
    "Define a function with two numbers as arguments. You can compute the sum in the function and return the value."
   ]
  },
  {
   "cell_type": "code",
   "execution_count": 211,
   "metadata": {},
   "outputs": [
    {
     "name": "stdout",
     "output_type": "stream",
     "text": [
      "Enter two numbers: 5 6\n",
      "Sum of 5 and 6 is: 11\n"
     ]
    }
   ],
   "source": [
    "def sumOfTwoNum(num1, num2):\n",
    "    sum = num1 + num2\n",
    "    return sum\n",
    "\n",
    "num1, num2 = map(int, input('Enter two numbers: ').split())\n",
    "sum = sumOfTwoNum(num1, num2)\n",
    "print(f'Sum of {num1} and {num2} is: {sum}')\n"
   ]
  },
  {
   "cell_type": "markdown",
   "metadata": {},
   "source": [
    "<b>Question 27\n",
    "\n",
    "Define a function that can convert a integer into a string and print it in console.\n",
    "</b>\n",
    "Hints:\n",
    "Use str() to convert a number to string."
   ]
  },
  {
   "cell_type": "code",
   "execution_count": 216,
   "metadata": {},
   "outputs": [
    {
     "name": "stdout",
     "output_type": "stream",
     "text": [
      "Enter a number: 3\n",
      "<class 'int'>\n",
      "Number 3 after converting to string is 3\n",
      "<class 'str'>\n"
     ]
    }
   ],
   "source": [
    "conv = lambda x : str(x)\n",
    "n = int(input('Enter a number: '))\n",
    "print(type(n))  \n",
    "c = conv(n)\n",
    "print('Number {} after converting to string is {}'.format(n, c))\n",
    "print(type(c))  "
   ]
  },
  {
   "cell_type": "markdown",
   "metadata": {},
   "source": [
    "<b>Question 28\n",
    "\n",
    "Define a function that can receive two integer numbers in string form and compute their sum and then print it in console.</b>"
   ]
  },
  {
   "cell_type": "code",
   "execution_count": 223,
   "metadata": {},
   "outputs": [
    {
     "name": "stdout",
     "output_type": "stream",
     "text": [
      "Enter two numbers: 2 3\n",
      "Sum is: 5\n"
     ]
    }
   ],
   "source": [
    "num1, num2 = input('Enter two numbers: ').split()\n",
    "sum = lambda n1, n2 : int(n1) + int(n2)\n",
    "\n",
    "print('Sum is: {}'.format(sum(num1, num2)))"
   ]
  },
  {
   "cell_type": "markdown",
   "metadata": {},
   "source": [
    "<b>Question 29\n",
    "\n",
    "Define a function that can accept two strings as input and concatenate them and then print it in console.\n",
    "</b>\n",
    "Hints:\n",
    "Use + sign to concatenate the strings.\n",
    "\n"
   ]
  },
  {
   "cell_type": "code",
   "execution_count": 224,
   "metadata": {},
   "outputs": [
    {
     "name": "stdout",
     "output_type": "stream",
     "text": [
      "Enter two stringshi Nirali\n",
      "Resultant string is hiNirali\n"
     ]
    }
   ],
   "source": [
    "s1, s2 = input('Enter two strings').split()\n",
    "conv = lambda s1, s2: s1 + s2\n",
    "print('Resultant string is {}'.format(conv(s1, s2)))"
   ]
  },
  {
   "cell_type": "markdown",
   "metadata": {},
   "source": [
    "<b>Question 30\n",
    "\n",
    "Define a function that can accept two strings as input and print the string with maximum length in console. If two strings have the same length, then the function should print all strings line by line.\n",
    "</b>\n",
    "Hints:\n",
    "Use len() function to get the length of a string."
   ]
  },
  {
   "cell_type": "code",
   "execution_count": 235,
   "metadata": {},
   "outputs": [
    {
     "name": "stdout",
     "output_type": "stream",
     "text": [
      "Enter two strings separated by comma: one three\n",
      "three\n"
     ]
    }
   ],
   "source": [
    "s1, s2 = input('Enter two strings separated by comma: ').split()\n",
    "\n",
    "def printValue(str1, str2):\n",
    "    if len(str1) == len(str2):\n",
    "        print(f'{str1} and {str2}')\n",
    "    elif len(str1) > len(str2):\n",
    "        print(str1)\n",
    "    else:\n",
    "        print(str2)\n",
    "        \n",
    "printValue(s1, s2)\n",
    "    \n"
   ]
  },
  {
   "cell_type": "code",
   "execution_count": null,
   "metadata": {},
   "outputs": [],
   "source": []
  }
 ],
 "metadata": {
  "kernelspec": {
   "display_name": "Python 3",
   "language": "python",
   "name": "python3"
  },
  "language_info": {
   "codemirror_mode": {
    "name": "ipython",
    "version": 3
   },
   "file_extension": ".py",
   "mimetype": "text/x-python",
   "name": "python",
   "nbconvert_exporter": "python",
   "pygments_lexer": "ipython3",
   "version": "3.8.3"
  }
 },
 "nbformat": 4,
 "nbformat_minor": 4
}

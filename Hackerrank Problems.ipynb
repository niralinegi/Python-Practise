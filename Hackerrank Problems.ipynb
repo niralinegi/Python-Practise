{
 "cells": [
  {
   "cell_type": "markdown",
   "metadata": {},
   "source": [
    "# Warm Up Challenges"
   ]
  },
  {
   "cell_type": "markdown",
   "metadata": {},
   "source": [
    "<b>Sales by Match</b>\n",
    "Alex works at a clothing store. There is a large pile of socks that must be paired by color for sale. Given an array of\n",
    "integers representing the color of each sock, determine how many pairs of socks with matching colors there are.\n",
    "For example, there are n = 7 socks with colors ar = [1,2,1,2,1,3,2]. There is one pair of color and one of color\n",
    ". There are three odd socks left, one of each color. The number of pairs is 2.\n"
   ]
  },
  {
   "cell_type": "code",
   "execution_count": 16,
   "metadata": {},
   "outputs": [
    {
     "name": "stdout",
     "output_type": "stream",
     "text": [
      "9\n",
      "10 20 20 10 10 30 50 10 20\n",
      "3\n"
     ]
    }
   ],
   "source": [
    "#!/bin/python3\n",
    "\n",
    "import math\n",
    "import os\n",
    "import random\n",
    "import re\n",
    "import sys\n",
    "\n",
    "#\n",
    "# Complete the 'sockMerchant' function below.\n",
    "#\n",
    "# The function is expected to return an INTEGER.\n",
    "# The function accepts following parameters:\n",
    "#  1. INTEGER n\n",
    "#  2. INTEGER_ARRAY ar\n",
    "#\n",
    "\n",
    "def sockMerchant(n, ar):\n",
    "    pairs = 0\n",
    "    for i in set(ar):\n",
    "        pairs += ar.count(i)//2\n",
    "    print(pairs)\n",
    "\n",
    "n = int(input().strip())\n",
    "ar = list(map(int, input().rstrip().split()))\n",
    "result = sockMerchant(n, ar)\n",
    "\n",
    "\n"
   ]
  },
  {
   "cell_type": "markdown",
   "metadata": {},
   "source": [
    "<b>Counting Valleys</b>\n",
    "Gary is an avid hiker. He tracks his hikes meticulously, paying close attention to small details like\n",
    "topography. During his last hike, he took exactly steps. For every step he took, he noted if it was an uphill\n",
    "or a downhill step. Gary's hikes start and end at sea level. We define the following terms:\n",
    "A mountain is a non-empty sequence of consecutive steps above sea level, starting with a step up from\n",
    "sea level and ending with a step down to sea level.\n",
    "A valley is a non-empty sequence of consecutive steps below sea level, starting with a step down from\n",
    "sea level and ending with a step up to sea level.\n",
    "Given Gary's sequence of up and down steps during his last hike, find and print the number of valleys he\n",
    "walked through.\n",
    "\n",
    "Sample Input\n",
    "8\n",
    "UDDDUDUU\n",
    "Sample Output\n",
    "1\n",
    "\n"
   ]
  },
  {
   "cell_type": "code",
   "execution_count": 45,
   "metadata": {},
   "outputs": [
    {
     "name": "stdout",
     "output_type": "stream",
     "text": [
      "12\n",
      "DDUUDDUDUUUD\n",
      "2\n"
     ]
    }
   ],
   "source": [
    "#!/bin/python3\n",
    "\n",
    "import math\n",
    "import os\n",
    "import random\n",
    "import re\n",
    "import sys\n",
    "\n",
    "#\n",
    "# Complete the 'countingValleys' function below.\n",
    "#\n",
    "# The function is expected to return an INTEGER.\n",
    "# The function accepts following parameters:\n",
    "#  1. INTEGER steps\n",
    "#  2. STRING path\n",
    "#\n",
    "\n",
    "def countingValleys(steps, path):\n",
    "    # Write your code here\n",
    "    count = valley = 0\n",
    "    for i in range(0, len(path)):\n",
    "        if path[i] == 'U':\n",
    "            count += 1\n",
    "        else:\n",
    "            count -= 1\n",
    "            \n",
    "        if path[i] == 'U' and count == 0:\n",
    "            valley += 1\n",
    "    return valley\n",
    "\n",
    "steps = int(input().strip())\n",
    "path = input()\n",
    "result = countingValleys(steps, path)\n",
    "print(result)\n",
    "\n"
   ]
  },
  {
   "cell_type": "markdown",
   "metadata": {},
   "source": [
    "<b>Jumping on the\n",
    "Clouds</b>\n",
    "Emma is playing a new mobile game involving n clouds numbered from 0 to n-1. A player initially starts\n",
    "out on cloud Co, and they must jump to cloud Cn-1. In each step, she can jump from any cloud i to cloud\n",
    "i+1 or cloud i+2.\n",
    "There are two types of clouds, ordinary clouds and thunderclouds. The game ends if Emma jumps onto a\n",
    "thundercloud, but if she reaches the last cloud (i.e., Cn-1 ), she wins the game!\n",
    "Can you find the minimum number of jumps Emma must make to win the game? It is guaranteed that\n",
    "clouds Co and Cn-1are ordinary-clouds and it is always possible to win the game.\n",
    "\n",
    "Sample Input 0\n",
    "7\n",
    "0 0 1 0 0 1 0\n",
    "Sample Output 0\n",
    "4\n"
   ]
  },
  {
   "cell_type": "code",
   "execution_count": 48,
   "metadata": {},
   "outputs": [
    {
     "name": "stdout",
     "output_type": "stream",
     "text": [
      "6\n",
      "0 0 0 0 1 0\n",
      "3\n"
     ]
    }
   ],
   "source": [
    "#!/bin/python3\n",
    "\n",
    "import math\n",
    "import os\n",
    "import random\n",
    "import re\n",
    "import sys\n",
    "\n",
    "#\n",
    "# Complete the 'jumpingOnClouds' function below.\n",
    "#\n",
    "# The function is expected to return an INTEGER.\n",
    "# The function accepts INTEGER_ARRAY c as parameter.\n",
    "#\n",
    "\n",
    "def jumpingOnClouds(c):\n",
    "    i = 0\n",
    "    jump = 0\n",
    "    if len(c) == 1: return 0\n",
    "    \n",
    "    while i < len(c):\n",
    "        if (i+2) < len(c) and c[i+2] == 0:\n",
    "            jump += 1\n",
    "            i += 2\n",
    "        elif (i+1) < len(c) and c[i+1] == 0:\n",
    "            jump += 1\n",
    "            i += 1\n",
    "        else: i += 1\n",
    "    return jump\n",
    "\n",
    "n = int(input().strip())\n",
    "\n",
    "c = list(map(int, input().rstrip().split()))\n",
    "\n",
    "result = jumpingOnClouds(c)\n",
    "print(result)\n"
   ]
  },
  {
   "cell_type": "markdown",
   "metadata": {},
   "source": [
    "<b>Repeated String</b>\n",
    "Lilah has a string,8 , of lowercase English letters that she repeated infinitely many times.\n",
    "Given an integer,n , find and print the number of letter a 's in the first n letters of Lilah's infinite string.\n",
    "\n",
    "Sample Input:\n",
    "aba\n",
    "10\n",
    "Sample Output:\n",
    "7\n"
   ]
  },
  {
   "cell_type": "code",
   "execution_count": 84,
   "metadata": {},
   "outputs": [
    {
     "name": "stdout",
     "output_type": "stream",
     "text": [
      "aba\n",
      "10\n",
      "7\n"
     ]
    }
   ],
   "source": [
    "#!/bin/python3\n",
    "\n",
    "import math\n",
    "import os\n",
    "import random\n",
    "import re\n",
    "import sys\n",
    "\n",
    "#\n",
    "# Complete the 'repeatedString' function below.\n",
    "#\n",
    "# The function is expected to return a LONG_INTEGER.\n",
    "# The function accepts following parameters:\n",
    "#  1. STRING s\n",
    "#  2. LONG_INTEGER n\n",
    "#\n",
    "\n",
    "def repeatedString(s, n):\n",
    "    c = s.count('a')\n",
    "    div = n//len(s)\n",
    "    \n",
    "    if n % len(s) == 0:\n",
    "        c = c*div\n",
    "    else:\n",
    "        m = n%len(s)\n",
    "        c = c*div+s[:m].count('a')\n",
    "    return c\n",
    "\n",
    "s = input()\n",
    "\n",
    "n = int(input().strip())\n",
    "result = repeatedString(s, n)\n",
    "print(result)\n"
   ]
  },
  {
   "cell_type": "markdown",
   "metadata": {},
   "source": [
    "# Dictionaries and Hashmaps"
   ]
  },
  {
   "cell_type": "markdown",
   "metadata": {},
   "source": [
    "<b>1. Hash Tables: Ransom Note</b>\n",
    "    \n",
    "Harold is a kidnapper who wrote a ransom note, but now he is worried it will be traced back to him through his handwriting. He found a magazine and wants to know if he can cut out whole words from it and use them to create an untraceable replica of his ransom note. The words in his note are case-sensitive and he must use only whole words available in the magazine. He cannot use substrings or concatenation to create the words he needs.\n",
    "\n",
    "Given the words in the magazine and the words in the ransom note, print Yes if he can replicate his ransom note exactly using whole words from the magazine; otherwise, print No.\n",
    "\n",
    "Example\n",
    " = \"attack at dawn\"  = \"Attack at dawn\"\n",
    "\n",
    "The magazine has all the right words, but there is a case mismatch. The answer is .\n",
    "\n",
    "Function Description\n",
    "\n",
    "Complete the checkMagazine function in the editor below. It must print  if the note can be formed using the magazine, or .\n",
    "\n",
    "checkMagazine has the following parameters:\n",
    "\n",
    "string magazine[m]: the words in the magazine\n",
    "string note[n]: the words in the ransom note\n",
    "Prints\n",
    "\n",
    "string: either  or , no return value is expected"
   ]
  },
  {
   "cell_type": "code",
   "execution_count": 114,
   "metadata": {},
   "outputs": [
    {
     "name": "stdout",
     "output_type": "stream",
     "text": [
      "15 6\n",
      "apgo clm w lxkvg mwz elo bg elo lxkvg elo apgo apgo w elo bg\n",
      "elo lxkvg bg mwz clm w\n",
      "Yes\n"
     ]
    }
   ],
   "source": [
    "#!/bin/python3\n",
    "\n",
    "import math\n",
    "import os\n",
    "import random\n",
    "import re\n",
    "import sys\n",
    "\n",
    "#\n",
    "# Complete the 'checkMagazine' function below.\n",
    "#\n",
    "# The function accepts following parameters:\n",
    "#  1. STRING_ARRAY magazine\n",
    "#  2. STRING_ARRAY note\n",
    "#\n",
    "def checkMagazine(magazine, note):\n",
    "    dict = {}\n",
    "    \n",
    "    for word in magazine:\n",
    "        dict[word] = dict.get(word, 0) + 1\n",
    "    \n",
    "    for word in note:\n",
    "        if (dict.get(word, 0) == 0):\n",
    "            print('No')\n",
    "            return\n",
    "        else:\n",
    "            dict[word] -= 1\n",
    "    print('Yes')\n",
    "\n",
    "\n",
    "first_multiple_input = input().rstrip().split()\n",
    "\n",
    "m = int(first_multiple_input[0])\n",
    "\n",
    "n = int(first_multiple_input[1])\n",
    "\n",
    "magazine = input().rstrip().split()\n",
    "\n",
    "note = input().rstrip().split()\n",
    "\n",
    "checkMagazine(magazine, note)\n"
   ]
  },
  {
   "cell_type": "markdown",
   "metadata": {},
   "source": [
    "Given a string, S, of length N that is indexed from 0 to N-1, print its even-indexed and odd-indexed characters as 2 space-separated strings on a single line (see the Sample below for more detail).\n",
    "\n",
    "Note: 0 is considered to be an even index.\n",
    "\n",
    "Example\n",
    "\n",
    "s= abcdef\n",
    "Print abc def"
   ]
  },
  {
   "cell_type": "code",
   "execution_count": 120,
   "metadata": {},
   "outputs": [
    {
     "name": "stdout",
     "output_type": "stream",
     "text": [
      "2\n",
      "hacker\n",
      "hce akr\n",
      "rank\n",
      "rn ak\n"
     ]
    }
   ],
   "source": [
    "n = int(input())\n",
    "for i in range(n):\n",
    "    s = input()\n",
    "    print(*[\"\".join(s[::2]), \"\".join(s[1::2])])\n",
    "            \n"
   ]
  },
  {
   "cell_type": "code",
   "execution_count": 143,
   "metadata": {},
   "outputs": [
    {
     "name": "stdout",
     "output_type": "stream",
     "text": [
      "nirali negi\n",
      "Nirali Negi\n"
     ]
    }
   ],
   "source": [
    "def solve(s):\n",
    "    ar = s.split(' ')\n",
    "    return(' '.join(word.capitalize() for word in ar))\n",
    "\n",
    "print(solve(input()))"
   ]
  },
  {
   "cell_type": "code",
   "execution_count": null,
   "metadata": {},
   "outputs": [],
   "source": []
  },
  {
   "cell_type": "code",
   "execution_count": 144,
   "metadata": {},
   "outputs": [
    {
     "data": {
      "text/plain": [
       "[3, 5, 2, 1, 0]"
      ]
     },
     "execution_count": 144,
     "metadata": {},
     "output_type": "execute_result"
    }
   ],
   "source": [
    "list1 = [3,4,5,2,1,0]\n",
    "list1.pop(1)\n",
    "printlist1"
   ]
  },
  {
   "cell_type": "markdown",
   "metadata": {},
   "source": [
    "To reverse a list"
   ]
  },
  {
   "cell_type": "code",
   "execution_count": 171,
   "metadata": {},
   "outputs": [
    {
     "name": "stdout",
     "output_type": "stream",
     "text": [
      "4\n",
      "1 4 3 2\n",
      "2 3 4 1\n"
     ]
    }
   ],
   "source": [
    "n = int(input().strip())\n",
    "arr = list(map(int, input().rstrip().split()))\n",
    "print(' '.join(map(str, arr[::-1])))"
   ]
  },
  {
   "cell_type": "code",
   "execution_count": 180,
   "metadata": {},
   "outputs": [
    {
     "name": "stdout",
     "output_type": "stream",
     "text": [
      "Hello, my name is Nirali\n"
     ]
    }
   ],
   "source": [
    "class Person:\n",
    "    def __init__(self, name):\n",
    "        self.name = name\n",
    "\n",
    "    def say_hi(self):\n",
    "        print('Hello, my name is', self.name)\n",
    "\n",
    "p = Person('Nirali')\n",
    "p.say_hi()"
   ]
  },
  {
   "cell_type": "markdown",
   "metadata": {},
   "source": [
    "<b>2. Two Strings\n",
    "</b>\n",
    "\n",
    "Given two strings, determine if they share a common substring.\n",
    "Sample Input\n",
    "\n",
    "2\n",
    "hello\n",
    "world\n",
    "hi\n",
    "world\n",
    "Sample Output\n",
    "\n",
    "YES\n",
    "NO"
   ]
  },
  {
   "cell_type": "code",
   "execution_count": 15,
   "metadata": {},
   "outputs": [
    {
     "name": "stdout",
     "output_type": "stream",
     "text": [
      "2\n",
      "hello\n",
      "world\n",
      "YES\n",
      "hi\n",
      "world\n",
      "NO\n"
     ]
    }
   ],
   "source": [
    "def twoStrings(s1, s2):\n",
    "    return \"YES\" if set(s1) & set(s2) else \"NO\"\n",
    "\n",
    "q = int(input().strip())\n",
    "\n",
    "for q_itr in range(q):\n",
    "    s1 = input()\n",
    "\n",
    "    s2 = input()\n",
    "\n",
    "    result = twoStrings(s1, s2)\n",
    "    print(result)\n"
   ]
  },
  {
   "cell_type": "markdown",
   "metadata": {},
   "source": [
    "<b>3. Sherlock and Anagrams</b>\n",
    "Two strings are anagrams of each other if the letters of one string can be rearranged to form the other string. Given a string, find the number of pairs of substrings of the string that are anagrams of each other.\n",
    "Function Description\n",
    "\n",
    "Complete the function sherlockAndAnagrams in the editor below. It must return an integer that represents the number of anagrammatic pairs of substrings in .\n",
    "\n",
    "sherlockAndAnagrams has the following parameter(s):\n",
    "\n",
    "s: a string .\n",
    "\n",
    "Sample Input:\n",
    "\n",
    "2\n",
    "abba\n",
    "abcd\n",
    "Sample Output:\n",
    "\n",
    "4\n",
    "0"
   ]
  },
  {
   "cell_type": "code",
   "execution_count": 16,
   "metadata": {},
   "outputs": [
    {
     "name": "stdout",
     "output_type": "stream",
     "text": [
      "{'i': 2, 'q': 2, 'afi': 2}\n",
      "3\n"
     ]
    }
   ],
   "source": [
    "#Approach 1\n",
    "\n",
    "from collections import Counter\n",
    "s = \"ifailuhkqq\"\n",
    "arr=[]\n",
    "for i in range(1, len(s)):\n",
    "    for j in range(0, len(s)-i+1):\n",
    "        arr.append(\"\".join(sorted(s[j:j+i])))\n",
    "\n",
    "Counter(arr)\n",
    "count = {k:v for k,v in Counter(arr).items() if v>1}\n",
    "print(count)\n",
    "total = 0\n",
    "for i in count.values():\n",
    "    total += sum(range(i))\n",
    "print(total)"
   ]
  },
  {
   "cell_type": "code",
   "execution_count": 17,
   "metadata": {},
   "outputs": [
    {
     "name": "stdout",
     "output_type": "stream",
     "text": [
      "3\n"
     ]
    }
   ],
   "source": [
    "#Approach 2\n",
    "def func(s):\n",
    "    count = Counter(\"\".join(sorted(s[j:j+i])) for i in range(1, len(s)) for j in range(0, len(s)-i+1))\n",
    "    uniq = {k:v for k,v in count.items() if v>1}\n",
    "    return sum(sum(range(i)) for i in uniq.values())\n",
    "\n",
    "print(func('ifailuhkqq'))"
   ]
  },
  {
   "cell_type": "code",
   "execution_count": 20,
   "metadata": {},
   "outputs": [
    {
     "name": "stdout",
     "output_type": "stream",
     "text": [
      "2\n",
      "abba\n",
      "4\n",
      "abcd\n",
      "0\n"
     ]
    }
   ],
   "source": [
    "#final\n",
    "def sherlockAndAnagrams(s):\n",
    "    count = Counter(\"\".join(sorted(s[j:j+i])) for i in range(1,len(s)) for j in range(0, len(s)-i+1))\n",
    "    uniq = {k:v for k,v in count.items() if v>1}\n",
    "    return sum(sum(range(i)) for i in uniq.values())\n",
    "\n",
    "q = int(input().strip())\n",
    "\n",
    "for q_itr in range(q):\n",
    "    s = input()\n",
    "    result = print(sherlockAndAnagrams(s))\n",
    "    "
   ]
  },
  {
   "cell_type": "markdown",
   "metadata": {},
   "source": [
    "<b>4. Count Triplets</b>\n",
    "You are given an array and you need to find number of triplets of indices  such that the elements at those indices are in geometric progression for a given common ratio.\n",
    "\n",
    "Function Description\n",
    "\n",
    "Complete the countTriplets function in the editor below. It should return the number of triplets forming a geometric progression for a given  as an integer.\n",
    "\n",
    "countTriplets has the following parameter(s):\n",
    "\n",
    "arr: an array of integers\n",
    "r: an integer, the common ratio\n",
    "\n",
    "Sample Input 1\n",
    "\n",
    "6 3\n",
    "1 3 9 9 27 81\n",
    "Sample Output 1\n",
    "\n",
    "6"
   ]
  },
  {
   "cell_type": "code",
   "execution_count": 28,
   "metadata": {},
   "outputs": [
    {
     "name": "stdout",
     "output_type": "stream",
     "text": [
      "6 3\n",
      "1 3 9 9 27 81\n",
      "3\n"
     ]
    }
   ],
   "source": [
    "def countTriplets(arr, r):\n",
    "    count = 0\n",
    "    for i in range(1, len(arr)):\n",
    "        for j in range(0, len(arr)-i):\n",
    "            if arr[i]//arr[j] == r:\n",
    "                count+=1\n",
    "    return count\n",
    "\n",
    "nr = input().rstrip().split()\n",
    "\n",
    "n = int(nr[0])\n",
    "\n",
    "r = int(nr[1])\n",
    "\n",
    "arr = list(map(int, input().rstrip().split()))\n",
    "\n",
    "ans = countTriplets(arr, r)\n",
    "print(ans)\n"
   ]
  },
  {
   "cell_type": "markdown",
   "metadata": {},
   "source": [
    "# Day 13: Abstract Classes"
   ]
  },
  {
   "cell_type": "markdown",
   "metadata": {},
   "source": [
    "Task\n",
    "Given a Book class and a Solution class, write a MyBook class that does the following:\n",
    "\n",
    "Inherits from Book\n",
    "Has a parameterized constructor taking these 3 parameters:\n",
    "string title\n",
    "string author\n",
    "int price\n",
    "Implements the Book class' abstract display() method so it prints these  lines:\n",
    "Title:, a space, and then the current instance's title.\n",
    "Author:, a space, and then the current instance's author.\n",
    "Price:, a space, and then the current instance's price.\n",
    "\n",
    "Sample Input\n",
    "\n",
    "The following input from stdin is handled by the locked stub code in your editor:\n",
    "\n",
    "The Alchemist\n",
    "Paulo Coelho\n",
    "248\n",
    "Sample Output\n",
    "\n",
    "The following output is printed by your display() method:\n",
    "\n",
    "Title: The Alchemist\n",
    "Author: Paulo Coelho\n",
    "Price: 248"
   ]
  },
  {
   "cell_type": "code",
   "execution_count": 29,
   "metadata": {},
   "outputs": [
    {
     "name": "stdout",
     "output_type": "stream",
     "text": [
      "Kafka on the shore\n",
      "Murakami\n",
      "450\n",
      "Title: Kafka on the shore\n",
      "Author: Murakami\n",
      "Price: 450\n"
     ]
    }
   ],
   "source": [
    "from abc import ABCMeta, abstractmethod\n",
    "class Book(object, metaclass=ABCMeta):\n",
    "    def __init__(self,title,author):\n",
    "        self.title=title\n",
    "        self.author=author   \n",
    "    @abstractmethod\n",
    "    def display(): pass\n",
    "\n",
    "#Write MyBook class\n",
    "class MyBook(Book):\n",
    "    def __init__(self, title, author, price):\n",
    "        Book.__init__(self, title, author)\n",
    "        self.price = price\n",
    "        \n",
    "    def display(self):\n",
    "        print(f'Title: {self.title}')\n",
    "        print(f'Author: {self.author}')\n",
    "        print(f'Price: {self.price}')\n",
    "        \n",
    "title=input()\n",
    "author=input()\n",
    "price=int(input())\n",
    "new_novel=MyBook(title,author,price)\n",
    "new_novel.display()"
   ]
  },
  {
   "cell_type": "code",
   "execution_count": null,
   "metadata": {},
   "outputs": [],
   "source": []
  }
 ],
 "metadata": {
  "kernelspec": {
   "display_name": "Python 3",
   "language": "python",
   "name": "python3"
  },
  "language_info": {
   "codemirror_mode": {
    "name": "ipython",
    "version": 3
   },
   "file_extension": ".py",
   "mimetype": "text/x-python",
   "name": "python",
   "nbconvert_exporter": "python",
   "pygments_lexer": "ipython3",
   "version": "3.8.3"
  }
 },
 "nbformat": 4,
 "nbformat_minor": 4
}

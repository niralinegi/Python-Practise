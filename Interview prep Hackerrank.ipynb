{
 "cells": [
  {
   "cell_type": "markdown",
   "id": "3aba028a",
   "metadata": {},
   "source": [
    "### Week 1"
   ]
  },
  {
   "cell_type": "markdown",
   "id": "2fbd3f95",
   "metadata": {},
   "source": [
    "Sparse Arrays\n",
    "\n",
    "There is a collection of input strings and a collection of query strings. For each query string, determine how many times it occurs in the list of input strings. Return an array of the results."
   ]
  },
  {
   "cell_type": "markdown",
   "id": "4deb5f0f",
   "metadata": {},
   "source": [
    "#### Sample Input:\n",
    "\n",
    "4\n",
    "aba\n",
    "baba\n",
    "aba\n",
    "xzxb\n",
    "3\n",
    "aba\n",
    "xzxb\n",
    "ab\n",
    "\n",
    "Sample Output:\n",
    "\n",
    "2\n",
    "1\n",
    "0"
   ]
  },
  {
   "cell_type": "code",
   "execution_count": 7,
   "id": "efde52ca",
   "metadata": {},
   "outputs": [
    {
     "name": "stdout",
     "output_type": "stream",
     "text": [
      "3\n",
      "aba\n",
      "ab\n",
      "c\n",
      "2\n",
      "aba\n",
      "c\n",
      "[1, 1]\n"
     ]
    }
   ],
   "source": [
    "#\n",
    "# Complete the 'matchingStrings' function below.\n",
    "#\n",
    "# The function is expected to return an INTEGER_ARRAY.\n",
    "# The function accepts following parameters:\n",
    "#  1. STRING_ARRAY strings\n",
    "#  2. STRING_ARRAY queries\n",
    "#\n",
    "\n",
    "def matchingStrings(strings, queries):\n",
    "    countmap = {}\n",
    "    result = []\n",
    "    \n",
    "    for i in strings:\n",
    "        if i not in countmap:\n",
    "            countmap.update({i:1})\n",
    "        else:\n",
    "            countmap[i] = countmap.get(i) + 1\n",
    "        \n",
    "    for j in queries:\n",
    "        if j in countmap.keys():\n",
    "            result.append(countmap.get(j))\n",
    "        else:\n",
    "            result.append(0)\n",
    "    return result\n",
    "\n",
    "strings_count = int(input().strip())\n",
    "\n",
    "strings = []\n",
    "\n",
    "for _ in range(strings_count):\n",
    "    strings_item = input()\n",
    "    strings.append(strings_item)\n",
    "\n",
    "queries_count = int(input().strip())\n",
    "\n",
    "queries = []\n",
    "\n",
    "for _ in range(queries_count):\n",
    "    queries_item = input()\n",
    "    queries.append(queries_item)\n",
    "\n",
    "res = matchingStrings(strings, queries)\n",
    "print(res)\n",
    "\n"
   ]
  },
  {
   "cell_type": "markdown",
   "id": "4a26eafc",
   "metadata": {},
   "source": [
    "<b>Lonely integer </b>\n",
    "\n",
    "Given an array of integers, where all elements but one occur twice, find the unique element.\n",
    "\n",
    "Example\n",
    "1 1 2 2 3\n",
    "\n",
    "The unique element is 3."
   ]
  },
  {
   "cell_type": "code",
   "execution_count": 14,
   "id": "7da2e469",
   "metadata": {},
   "outputs": [
    {
     "name": "stdout",
     "output_type": "stream",
     "text": [
      "3\n",
      "1 1 2\n",
      "2\n"
     ]
    }
   ],
   "source": [
    "#\n",
    "# Complete the 'lonelyinteger' function below.\n",
    "#\n",
    "# The function is expected to return an INTEGER.\n",
    "# The function accepts INTEGER_ARRAY a as parameter.\n",
    "#\n",
    "\n",
    "def lonelyinteger(a):\n",
    "    cmap = {}\n",
    "    for i in a:\n",
    "        if i not in cmap:\n",
    "            cmap.update({i:1})\n",
    "        else:\n",
    "            cmap[i] = cmap.get(i) + 1\n",
    "    \n",
    "    for k,v in cmap.items():\n",
    "        if v == 1:\n",
    "            print(k)\n",
    "\n",
    "n = int(input().strip())\n",
    "\n",
    "a = list(map(int, input().rstrip().split()))\n",
    "\n",
    "result = lonelyinteger(a)"
   ]
  },
  {
   "cell_type": "markdown",
   "id": "220af1a2",
   "metadata": {},
   "source": [
    "<b>Flipping bits</b>"
   ]
  },
  {
   "cell_type": "markdown",
   "id": "66df9731",
   "metadata": {},
   "source": [
    "You will be given a list of 32 bit unsigned integers. Flip all the bits ( and ) and return the result as an unsigned integer.\n",
    "\n",
    "Take 1 for example, as unsigned 32-bits is 00000000000000000000000000000001 and doing the flipping we get 11111111111111111111111111111110 which in turn is 4294967294.\n",
    "\n",
    "Sample Input\n",
    "\n",
    "3 \n",
    "2147483647 \n",
    "1 \n",
    "0\n",
    "\n",
    "Sample Output\n",
    "\n",
    "2147483648 \n",
    "4294967294 \n",
    "4294967295"
   ]
  },
  {
   "cell_type": "code",
   "execution_count": 9,
   "id": "8cf21b05",
   "metadata": {},
   "outputs": [
    {
     "name": "stdout",
     "output_type": "stream",
     "text": [
      "1\n",
      "3\n",
      "4294967292\n"
     ]
    }
   ],
   "source": [
    "#\n",
    "# Complete the 'flippingBits' function below.\n",
    "#\n",
    "# The function is expected to return a LONG_INTEGER.\n",
    "# The function accepts LONG_INTEGER n as parameter.\n",
    "#\n",
    "\n",
    "def flippingBits(n):\n",
    "    num = bin(n)\n",
    "    num = num[2:].zfill(32)\n",
    "    container = ''\n",
    "    \n",
    "    for i in num:\n",
    "        if i == '0':\n",
    "            container += '1'\n",
    "        else:\n",
    "            container += '0'\n",
    "            \n",
    "    return int(container, base=2)\n",
    "\n",
    "q = int(input().strip())\n",
    "\n",
    "for q_itr in range(q):\n",
    "    n = int(input().strip())\n",
    "    result = flippingBits(n)\n",
    "    print(result)\n"
   ]
  },
  {
   "cell_type": "code",
   "execution_count": 8,
   "id": "09c81023",
   "metadata": {},
   "outputs": [
    {
     "name": "stdout",
     "output_type": "stream",
     "text": [
      "1\n",
      "3\n",
      "4294967292\n"
     ]
    }
   ],
   "source": [
    "def flippingBits(n):\n",
    "    return (2**32 -1) - n\n",
    "\n",
    "q = int(input().strip())\n",
    "\n",
    "for q_itr in range(q):\n",
    "    n = int(input().strip())\n",
    "    result = flippingBits(n)\n",
    "    print(result)\n"
   ]
  },
  {
   "cell_type": "markdown",
   "id": "76ccd742",
   "metadata": {},
   "source": [
    "<b>Diagonal Difference</b>"
   ]
  },
  {
   "cell_type": "markdown",
   "id": "1cd9cb4c",
   "metadata": {},
   "source": [
    "Given a square matrix, calculate the absolute difference between the sums of its diagonals.\n",
    "\n",
    "Sample Input\n",
    "\n",
    "3\n",
    "11 2 4\n",
    "4 5 6\n",
    "10 8 -12\n",
    "\n",
    "Sample Output\n",
    "\n",
    "15"
   ]
  },
  {
   "cell_type": "code",
   "execution_count": 18,
   "id": "409e221a",
   "metadata": {},
   "outputs": [
    {
     "name": "stdout",
     "output_type": "stream",
     "text": [
      "3\n",
      "11 2 4\n",
      "4 5 6\n",
      "10 8 -12\n",
      "15\n"
     ]
    }
   ],
   "source": [
    "#\n",
    "# Complete the 'diagonalDifference' function below.\n",
    "#\n",
    "# The function is expected to return an INTEGER.\n",
    "# The function accepts 2D_INTEGER_ARRAY arr as parameter.\n",
    "#\n",
    "\n",
    "def diagonalDifference(arr):\n",
    "    sd1 = 0\n",
    "    sd2 = 0\n",
    "    for i in range(0, len(arr)):\n",
    "        sd1 += arr[i][i]\n",
    "        sd2 += arr[i][n-i-1]\n",
    "    return abs(sd1-sd2)\n",
    "\n",
    "n = int(input().strip())\n",
    "\n",
    "arr = []\n",
    "\n",
    "for _ in range(n):\n",
    "    arr.append(list(map(int, input().rstrip().split())))\n",
    "\n",
    "result = diagonalDifference(arr)\n",
    "print(result)"
   ]
  },
  {
   "cell_type": "markdown",
   "id": "6828d480",
   "metadata": {},
   "source": [
    "<b>Given a list of integers, count and return the number of times each value appears as an array of integers.</b>\n",
    "\n",
    "Sample Input\n",
    "\n",
    "100\n",
    "63 25 73 1 98 73 56 84 86 57 16 83 8 25 81 56 9 53 98 67 99 12 83 89 80 91 39 86 76 85 74 39 25 90 59 10 94 32 44 3 89 30 27 79 46 96 27 32 18 21 92 69 81 40 40 34 68 78 24 87 42 69 23 41 78 22 6 90 99 89 50 30 20 1 43 3 70 95 33 46 44 9 69 48 33 60 65 16 82 67 61 32 21 79 75 75 13 87 70 33  \n",
    "\n",
    "Sample Output\n",
    "\n",
    "0 2 0 2 0 0 1 0 1 2 1 0 1 1 0 0 2 0 1 0 1 2 1 1 1 3 0 2 0 0 2 0 3 3 1 0 0 0 0 2 2 1 1 1 2 0 2 0 1 0 1 0 0 1 0 0 2 1 0 1 1 1 0 1 0 1 0 2 1 3 2 0 0 2 1 2 1 0 2 2 1 2 1 2 1 1 2 2 0 3 2 1 1 0 1 1 1 0 2 2 "
   ]
  },
  {
   "cell_type": "code",
   "execution_count": 20,
   "id": "b0d35a3d",
   "metadata": {},
   "outputs": [
    {
     "name": "stdout",
     "output_type": "stream",
     "text": [
      "3\n",
      "1 1 2\n",
      "[0, 2, 1]\n"
     ]
    }
   ],
   "source": [
    "#\n",
    "# Complete the 'countingSort' function below.\n",
    "#\n",
    "# The function is expected to return an INTEGER_ARRAY.\n",
    "# The function accepts INTEGER_ARRAY arr as parameter.\n",
    "#\n",
    "\n",
    "def countingSort(arr):\n",
    "    res_arr = [0] * 100\n",
    "    n = len(arr)\n",
    "    for i in range(0,n):\n",
    "        temp = arr[i]\n",
    "        res_arr[temp] += 1\n",
    "    return res_arr\n",
    "        \n",
    "\n",
    "n = int(input().strip())\n",
    "\n",
    "arr = list(map(int, input().rstrip().split()))\n",
    "\n",
    "result = countingSort(arr)\n",
    "\n",
    "print(result)\n"
   ]
  },
  {
   "cell_type": "markdown",
   "id": "11a846b6",
   "metadata": {},
   "source": [
    "<b>Pangrams</b>\n",
    "A pangram is a string that contains every letter of the alphabet. Given a sentence determine whether it is a pangram in the English alphabet. Ignore case. Return either pangram or not pangram as appropriate.\n",
    "\n",
    "Sample Input 0\n",
    "\n",
    "We promptly judged antique ivory buckles for the next prize\n",
    "\n",
    "Sample Output 0\n",
    "\n",
    "pangram\n",
    "\n",
    "Sample Explanation 0\n",
    "\n",
    "All of the letters of the alphabet are present in the string.\n",
    "\n",
    "Sample Input 1\n",
    "\n",
    "We promptly judged antique ivory buckles for the prize\n",
    "\n",
    "Sample Output 1\n",
    "\n",
    "not pangram\n",
    "\n",
    "Sample Explanation 0\n",
    "\n",
    "The string lacks an x."
   ]
  },
  {
   "cell_type": "code",
   "execution_count": 23,
   "id": "eee373a2",
   "metadata": {},
   "outputs": [
    {
     "name": "stdout",
     "output_type": "stream",
     "text": [
      "qmExzBIJmdELxyOFWv LOCmefk TwPhargKSPEqSxzveiun\n",
      "pangram\n"
     ]
    }
   ],
   "source": [
    "#\n",
    "# Complete the 'pangrams' function below.\n",
    "#\n",
    "# The function is expected to return a STRING.\n",
    "# The function accepts STRING s as parameter.\n",
    "#\n",
    "\n",
    "def pangrams(s):\n",
    "    return 'pangram' if len(set(s.replace(' ','').lower()))==26 else 'not pangram'\n",
    "\n",
    "s = input()\n",
    "\n",
    "result = pangrams(s)\n",
    "print(result)"
   ]
  },
  {
   "cell_type": "code",
   "execution_count": 22,
   "id": "46082da4",
   "metadata": {},
   "outputs": [
    {
     "name": "stdout",
     "output_type": "stream",
     "text": [
      "Wepromptlyjudgedantiqueivorybucklesforthenextprize\n"
     ]
    }
   ],
   "source": [
    "s = 'We promptly judged antique ivory buckles for the next prize'\n",
    "print(s.replace(' ', ''))"
   ]
  },
  {
   "cell_type": "markdown",
   "id": "782e68f4",
   "metadata": {},
   "source": [
    "<b>Permuting Two Arrays</b>"
   ]
  },
  {
   "cell_type": "code",
   "execution_count": 24,
   "id": "a25b08b6",
   "metadata": {},
   "outputs": [
    {
     "data": {
      "text/plain": [
       "'\\nSample Input\\n\\nSTDIN       Function\\n-----       --------\\n2           q = 2\\n3 10        A[] and B[] size n = 3, k = 10\\n2 1 3       A = [2, 1, 3]\\n7 8 9       B = [7, 8, 9]\\n4 5         A[] and B[] size n = 4, k = 5\\n1 2 2 1     A = [1, 2, 2, 1]\\n3 3 3 4     B = [3, 3, 3, 4]\\n\\nSample Output\\n\\nYES\\nNO\\n'"
      ]
     },
     "execution_count": 24,
     "metadata": {},
     "output_type": "execute_result"
    }
   ],
   "source": [
    "\"\"\"\n",
    "Sample Input\n",
    "\n",
    "STDIN       Function\n",
    "-----       --------\n",
    "2           q = 2\n",
    "3 10        A[] and B[] size n = 3, k = 10\n",
    "2 1 3       A = [2, 1, 3]\n",
    "7 8 9       B = [7, 8, 9]\n",
    "4 5         A[] and B[] size n = 4, k = 5\n",
    "1 2 2 1     A = [1, 2, 2, 1]\n",
    "3 3 3 4     B = [3, 3, 3, 4]\n",
    "\n",
    "Sample Output\n",
    "\n",
    "YES\n",
    "NO\n",
    "\"\"\""
   ]
  },
  {
   "cell_type": "code",
   "execution_count": 36,
   "id": "668006e5",
   "metadata": {},
   "outputs": [
    {
     "name": "stdout",
     "output_type": "stream",
     "text": [
      "1\n",
      "3 10\n",
      "2 1 3\n",
      "7 8 9\n",
      "YES\n"
     ]
    }
   ],
   "source": [
    "\"\"\"\n",
    "Sample Input\n",
    "\n",
    "STDIN       Function\n",
    "-----       --------\n",
    "2           q = 2\n",
    "3 10        A[] and B[] size n = 3, k = 10\n",
    "2 1 3       A = [2, 1, 3]\n",
    "7 8 9       B = [7, 8, 9]\n",
    "4 5         A[] and B[] size n = 4, k = 5\n",
    "1 2 2 1     A = [1, 2, 2, 1]\n",
    "3 3 3 4     B = [3, 3, 3, 4]\n",
    "\n",
    "Sample Output\n",
    "\n",
    "YES\n",
    "NO\n",
    "\"\"\"\n",
    "\n",
    "#\n",
    "# Complete the 'twoArrays' function below.\n",
    "#\n",
    "# The function is expected to return a STRING.\n",
    "# The function accepts following parameters:\n",
    "#  1. INTEGER k\n",
    "#  2. INTEGER_ARRAY A\n",
    "#  3. INTEGER_ARRAY B\n",
    "#\n",
    "\n",
    "def twoArrays(k, A, B):\n",
    "    A.sort()\n",
    "    B.sort(reverse=True)\n",
    "    for i in range(len(A)):\n",
    "        if A[i] + B[i] < k:\n",
    "            return \"NO\"\n",
    "        return \"YES\"\n",
    "\n",
    "q = int(input().strip())\n",
    "\n",
    "for q_itr in range(q):\n",
    "    first_multiple_input = input().rstrip().split()\n",
    "\n",
    "    n = int(first_multiple_input[0])\n",
    "\n",
    "    k = int(first_multiple_input[1])\n",
    "\n",
    "    A = list(map(int, input().rstrip().split()))\n",
    "\n",
    "    B = list(map(int, input().rstrip().split()))\n",
    "\n",
    "    result = twoArrays(k, A, B)\n",
    "    print(result)"
   ]
  },
  {
   "cell_type": "markdown",
   "id": "f53f033c",
   "metadata": {},
   "source": [
    "<b>Subarray Division</b>"
   ]
  },
  {
   "cell_type": "markdown",
   "id": "ae27e681",
   "metadata": {},
   "source": [
    "Two children, Lily and Ron, want to share a chocolate bar. Each of the squares has an integer on it.\n",
    "\n",
    "Lily decides to share a contiguous segment of the bar selected such that:\n",
    "\n",
    "The length of the segment matches Ron's birth month, and,\n",
    "The sum of the integers on the squares is equal to his birth day.\n",
    "Determine how many ways she can divide the chocolate.\n",
    "\n",
    "Function Description\n",
    "\n",
    "Complete the birthday function in the editor below.\n",
    "\n",
    "birthday has the following parameter(s):\n",
    "\n",
    "int s[n]: the numbers on each of the squares of chocolate\n",
    "int d: Ron's birth day\n",
    "int m: Ron's birth month\n",
    "Returns\n",
    "\n",
    "int: the number of ways the bar can be divided"
   ]
  },
  {
   "cell_type": "code",
   "execution_count": 29,
   "id": "535c6f5a",
   "metadata": {},
   "outputs": [
    {
     "name": "stdout",
     "output_type": "stream",
     "text": [
      "5\n",
      "1 2 1 3 2\n",
      "3 2\n",
      "2\n"
     ]
    }
   ],
   "source": [
    "#\n",
    "# Complete the 'birthday' function below.\n",
    "#\n",
    "# The function is expected to return an INTEGER.\n",
    "# The function accepts following parameters:\n",
    "#  1. INTEGER_ARRAY s\n",
    "#  2. INTEGER d\n",
    "#  3. INTEGER m\n",
    "#\n",
    "\n",
    "def birthday(s, d, m):\n",
    "    count = 0\n",
    "    for i in range(len(s)):\n",
    "        if sum(s[i:i+m]) == d:\n",
    "            count += 1\n",
    "    return count\n",
    "\n",
    "n = int(input().strip())\n",
    "\n",
    "s = list(map(int, input().rstrip().split()))\n",
    "\n",
    "first_multiple_input = input().rstrip().split()\n",
    "\n",
    "d = int(first_multiple_input[0])\n",
    "\n",
    "m = int(first_multiple_input[1])\n",
    "\n",
    "result = birthday(s, d, m)\n",
    "print(result)"
   ]
  },
  {
   "cell_type": "markdown",
   "id": "113b78b4",
   "metadata": {},
   "source": [
    "<b>XOR Strings 2</b>"
   ]
  },
  {
   "cell_type": "markdown",
   "id": "48f08492",
   "metadata": {},
   "source": [
    "In this challenge, the task is to debug the existing code to successfully execute all provided test files.\n",
    "\n",
    "Given two strings consisting of digits 0 and 1 only, find the XOR of the two strings.\n",
    "Debug the given function strings_xor to find the XOR of the two given strings appropriately.\n",
    "\n",
    "Note: You can modify at most three lines in the given code and you cannot add or remove lines to the code.\n",
    "\n",
    "To restore the original code, click on the icon to the right of the language selector.\n",
    "\n",
    "Input Format\n",
    "\n",
    "The input consists of two lines. The first line of the input contains the first string, s, and the second line contains the second string, t.\n",
    "\n",
    "Sample Input\n",
    "\n",
    "10101\n",
    "00101\n",
    "Sample Output\n",
    "\n",
    "10000"
   ]
  },
  {
   "cell_type": "code",
   "execution_count": 30,
   "id": "1bbdce35",
   "metadata": {},
   "outputs": [
    {
     "name": "stdout",
     "output_type": "stream",
     "text": [
      "10101\n",
      "00101\n",
      "10000\n"
     ]
    }
   ],
   "source": [
    "def strings_xor(s, t):\n",
    "    res = \"\"\n",
    "    for i in range(len(s)):\n",
    "        if s[i] == t[i]:\n",
    "            res += '0';\n",
    "        else:\n",
    "            res += '1';\n",
    "\n",
    "    return res\n",
    "\n",
    "s = input()\n",
    "t = input()\n",
    "print(strings_xor(s, t))"
   ]
  },
  {
   "cell_type": "markdown",
   "id": "f3b6c58e",
   "metadata": {},
   "source": [
    "<b>Find median</b>"
   ]
  },
  {
   "cell_type": "code",
   "execution_count": 31,
   "id": "0858fbee",
   "metadata": {},
   "outputs": [
    {
     "name": "stdout",
     "output_type": "stream",
     "text": [
      "7\n",
      "0 1 2 4 6 5 3\n",
      "3\n"
     ]
    }
   ],
   "source": [
    "def findMedian(arr):\n",
    "    sortedarr = sorted(arr)\n",
    "    mid = len(sortedarr)//2\n",
    "    return sortedarr[mid]\n",
    "        \n",
    "\n",
    "n = int(input().strip())\n",
    "\n",
    "arr = list(map(int, input().rstrip().split()))\n",
    "\n",
    "result = findMedian(arr)\n",
    "\n",
    "print(result)"
   ]
  },
  {
   "cell_type": "markdown",
   "id": "16cf7ce3",
   "metadata": {},
   "source": [
    "### Week 2"
   ]
  },
  {
   "cell_type": "code",
   "execution_count": null,
   "id": "4f3f428d",
   "metadata": {},
   "outputs": [],
   "source": []
  }
 ],
 "metadata": {
  "kernelspec": {
   "display_name": "Python 3",
   "language": "python",
   "name": "python3"
  },
  "language_info": {
   "codemirror_mode": {
    "name": "ipython",
    "version": 3
   },
   "file_extension": ".py",
   "mimetype": "text/x-python",
   "name": "python",
   "nbconvert_exporter": "python",
   "pygments_lexer": "ipython3",
   "version": "3.8.8"
  }
 },
 "nbformat": 4,
 "nbformat_minor": 5
}

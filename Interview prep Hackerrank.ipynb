{
 "cells": [
  {
   "cell_type": "markdown",
   "id": "3aba028a",
   "metadata": {},
   "source": [
    "### Week 1"
   ]
  },
  {
   "cell_type": "markdown",
   "id": "2fbd3f95",
   "metadata": {},
   "source": [
    "Sparse Arrays\n",
    "\n",
    "There is a collection of input strings and a collection of query strings. For each query string, determine how many times it occurs in the list of input strings. Return an array of the results."
   ]
  },
  {
   "cell_type": "markdown",
   "id": "4deb5f0f",
   "metadata": {},
   "source": [
    "#### Sample Input:\n",
    "\n",
    "4\n",
    "aba\n",
    "baba\n",
    "aba\n",
    "xzxb\n",
    "3\n",
    "aba\n",
    "xzxb\n",
    "ab\n",
    "\n",
    "Sample Output:\n",
    "\n",
    "2\n",
    "1\n",
    "0"
   ]
  },
  {
   "cell_type": "code",
   "execution_count": 7,
   "id": "efde52ca",
   "metadata": {},
   "outputs": [
    {
     "name": "stdout",
     "output_type": "stream",
     "text": [
      "3\n",
      "aba\n",
      "ab\n",
      "c\n",
      "2\n",
      "aba\n",
      "c\n",
      "[1, 1]\n"
     ]
    }
   ],
   "source": [
    "#\n",
    "# Complete the 'matchingStrings' function below.\n",
    "#\n",
    "# The function is expected to return an INTEGER_ARRAY.\n",
    "# The function accepts following parameters:\n",
    "#  1. STRING_ARRAY strings\n",
    "#  2. STRING_ARRAY queries\n",
    "#\n",
    "\n",
    "def matchingStrings(strings, queries):\n",
    "    countmap = {}\n",
    "    result = []\n",
    "    \n",
    "    for i in strings:\n",
    "        if i not in countmap:\n",
    "            countmap.update({i:1})\n",
    "        else:\n",
    "            countmap[i] = countmap.get(i) + 1\n",
    "        \n",
    "    for j in queries:\n",
    "        if j in countmap.keys():\n",
    "            result.append(countmap.get(j))\n",
    "        else:\n",
    "            result.append(0)\n",
    "    return result\n",
    "\n",
    "strings_count = int(input().strip())\n",
    "\n",
    "strings = []\n",
    "\n",
    "for _ in range(strings_count):\n",
    "    strings_item = input()\n",
    "    strings.append(strings_item)\n",
    "\n",
    "queries_count = int(input().strip())\n",
    "\n",
    "queries = []\n",
    "\n",
    "for _ in range(queries_count):\n",
    "    queries_item = input()\n",
    "    queries.append(queries_item)\n",
    "\n",
    "res = matchingStrings(strings, queries)\n",
    "print(res)\n",
    "\n"
   ]
  },
  {
   "cell_type": "markdown",
   "id": "4a26eafc",
   "metadata": {},
   "source": [
    "<b>Lonely integer </b>\n",
    "\n",
    "Given an array of integers, where all elements but one occur twice, find the unique element.\n",
    "\n",
    "Example\n",
    "1 1 2 2 3\n",
    "\n",
    "The unique element is 3."
   ]
  },
  {
   "cell_type": "code",
   "execution_count": 14,
   "id": "7da2e469",
   "metadata": {},
   "outputs": [
    {
     "name": "stdout",
     "output_type": "stream",
     "text": [
      "3\n",
      "1 1 2\n",
      "2\n"
     ]
    }
   ],
   "source": [
    "#\n",
    "# Complete the 'lonelyinteger' function below.\n",
    "#\n",
    "# The function is expected to return an INTEGER.\n",
    "# The function accepts INTEGER_ARRAY a as parameter.\n",
    "#\n",
    "\n",
    "def lonelyinteger(a):\n",
    "    cmap = {}\n",
    "    for i in a:\n",
    "        if i not in cmap:\n",
    "            cmap.update({i:1})\n",
    "        else:\n",
    "            cmap[i] = cmap.get(i) + 1\n",
    "    \n",
    "    for k,v in cmap.items():\n",
    "        if v == 1:\n",
    "            print(k)\n",
    "\n",
    "n = int(input().strip())\n",
    "\n",
    "a = list(map(int, input().rstrip().split()))\n",
    "\n",
    "result = lonelyinteger(a)"
   ]
  },
  {
   "cell_type": "code",
   "execution_count": null,
   "id": "e369fb49",
   "metadata": {},
   "outputs": [],
   "source": []
  }
 ],
 "metadata": {
  "kernelspec": {
   "display_name": "Python 3",
   "language": "python",
   "name": "python3"
  },
  "language_info": {
   "codemirror_mode": {
    "name": "ipython",
    "version": 3
   },
   "file_extension": ".py",
   "mimetype": "text/x-python",
   "name": "python",
   "nbconvert_exporter": "python",
   "pygments_lexer": "ipython3",
   "version": "3.8.8"
  }
 },
 "nbformat": 4,
 "nbformat_minor": 5
}

{
 "cells": [
  {
   "cell_type": "markdown",
   "id": "3aba028a",
   "metadata": {},
   "source": [
    "### Week 1"
   ]
  },
  {
   "cell_type": "markdown",
   "id": "2fbd3f95",
   "metadata": {},
   "source": [
    "Sparse Arrays\n",
    "\n",
    "There is a collection of input strings and a collection of query strings. For each query string, determine how many times it occurs in the list of input strings. Return an array of the results."
   ]
  },
  {
   "cell_type": "markdown",
   "id": "4deb5f0f",
   "metadata": {},
   "source": [
    "#### Sample Input:\n",
    "\n",
    "4\n",
    "aba\n",
    "baba\n",
    "aba\n",
    "xzxb\n",
    "3\n",
    "aba\n",
    "xzxb\n",
    "ab\n",
    "\n",
    "Sample Output:\n",
    "\n",
    "2\n",
    "1\n",
    "0"
   ]
  },
  {
   "cell_type": "code",
   "execution_count": 7,
   "id": "efde52ca",
   "metadata": {},
   "outputs": [
    {
     "name": "stdout",
     "output_type": "stream",
     "text": [
      "3\n",
      "aba\n",
      "ab\n",
      "c\n",
      "2\n",
      "aba\n",
      "c\n",
      "[1, 1]\n"
     ]
    }
   ],
   "source": [
    "#\n",
    "# Complete the 'matchingStrings' function below.\n",
    "#\n",
    "# The function is expected to return an INTEGER_ARRAY.\n",
    "# The function accepts following parameters:\n",
    "#  1. STRING_ARRAY strings\n",
    "#  2. STRING_ARRAY queries\n",
    "#\n",
    "\n",
    "def matchingStrings(strings, queries):\n",
    "    countmap = {}\n",
    "    result = []\n",
    "    \n",
    "    for i in strings:\n",
    "        if i not in countmap:\n",
    "            countmap.update({i:1})\n",
    "        else:\n",
    "            countmap[i] = countmap.get(i) + 1\n",
    "        \n",
    "    for j in queries:\n",
    "        if j in countmap.keys():\n",
    "            result.append(countmap.get(j))\n",
    "        else:\n",
    "            result.append(0)\n",
    "    return result\n",
    "\n",
    "strings_count = int(input().strip())\n",
    "\n",
    "strings = []\n",
    "\n",
    "for _ in range(strings_count):\n",
    "    strings_item = input()\n",
    "    strings.append(strings_item)\n",
    "\n",
    "queries_count = int(input().strip())\n",
    "\n",
    "queries = []\n",
    "\n",
    "for _ in range(queries_count):\n",
    "    queries_item = input()\n",
    "    queries.append(queries_item)\n",
    "\n",
    "res = matchingStrings(strings, queries)\n",
    "print(res)\n",
    "\n"
   ]
  },
  {
   "cell_type": "markdown",
   "id": "4a26eafc",
   "metadata": {},
   "source": [
    "<b>Lonely integer </b>\n",
    "\n",
    "Given an array of integers, where all elements but one occur twice, find the unique element.\n",
    "\n",
    "Example\n",
    "1 1 2 2 3\n",
    "\n",
    "The unique element is 3."
   ]
  },
  {
   "cell_type": "code",
   "execution_count": 14,
   "id": "7da2e469",
   "metadata": {},
   "outputs": [
    {
     "name": "stdout",
     "output_type": "stream",
     "text": [
      "3\n",
      "1 1 2\n",
      "2\n"
     ]
    }
   ],
   "source": [
    "#\n",
    "# Complete the 'lonelyinteger' function below.\n",
    "#\n",
    "# The function is expected to return an INTEGER.\n",
    "# The function accepts INTEGER_ARRAY a as parameter.\n",
    "#\n",
    "\n",
    "def lonelyinteger(a):\n",
    "    cmap = {}\n",
    "    for i in a:\n",
    "        if i not in cmap:\n",
    "            cmap.update({i:1})\n",
    "        else:\n",
    "            cmap[i] = cmap.get(i) + 1\n",
    "    \n",
    "    for k,v in cmap.items():\n",
    "        if v == 1:\n",
    "            print(k)\n",
    "\n",
    "n = int(input().strip())\n",
    "\n",
    "a = list(map(int, input().rstrip().split()))\n",
    "\n",
    "result = lonelyinteger(a)"
   ]
  },
  {
   "cell_type": "markdown",
   "id": "220af1a2",
   "metadata": {},
   "source": [
    "<b>Flipping bits</b>"
   ]
  },
  {
   "cell_type": "markdown",
   "id": "66df9731",
   "metadata": {},
   "source": [
    "You will be given a list of 32 bit unsigned integers. Flip all the bits ( and ) and return the result as an unsigned integer.\n",
    "\n",
    "Take 1 for example, as unsigned 32-bits is 00000000000000000000000000000001 and doing the flipping we get 11111111111111111111111111111110 which in turn is 4294967294.\n",
    "\n",
    "Sample Input\n",
    "\n",
    "3 \n",
    "2147483647 \n",
    "1 \n",
    "0\n",
    "\n",
    "Sample Output\n",
    "\n",
    "2147483648 \n",
    "4294967294 \n",
    "4294967295"
   ]
  },
  {
   "cell_type": "code",
   "execution_count": 9,
   "id": "8cf21b05",
   "metadata": {},
   "outputs": [
    {
     "name": "stdout",
     "output_type": "stream",
     "text": [
      "1\n",
      "3\n",
      "4294967292\n"
     ]
    }
   ],
   "source": [
    "#\n",
    "# Complete the 'flippingBits' function below.\n",
    "#\n",
    "# The function is expected to return a LONG_INTEGER.\n",
    "# The function accepts LONG_INTEGER n as parameter.\n",
    "#\n",
    "\n",
    "def flippingBits(n):\n",
    "    num = bin(n)\n",
    "    num = num[2:].zfill(32)\n",
    "    container = ''\n",
    "    \n",
    "    for i in num:\n",
    "        if i == '0':\n",
    "            container += '1'\n",
    "        else:\n",
    "            container += '0'\n",
    "            \n",
    "    return int(container, base=2)\n",
    "\n",
    "q = int(input().strip())\n",
    "\n",
    "for q_itr in range(q):\n",
    "    n = int(input().strip())\n",
    "    result = flippingBits(n)\n",
    "    print(result)\n"
   ]
  },
  {
   "cell_type": "code",
   "execution_count": 8,
   "id": "09c81023",
   "metadata": {},
   "outputs": [
    {
     "name": "stdout",
     "output_type": "stream",
     "text": [
      "1\n",
      "3\n",
      "4294967292\n"
     ]
    }
   ],
   "source": [
    "def flippingBits(n):\n",
    "    return (2**32 -1) - n\n",
    "\n",
    "q = int(input().strip())\n",
    "\n",
    "for q_itr in range(q):\n",
    "    n = int(input().strip())\n",
    "    result = flippingBits(n)\n",
    "    print(result)\n"
   ]
  },
  {
   "cell_type": "markdown",
   "id": "76ccd742",
   "metadata": {},
   "source": [
    "<b>Diagonal Difference</b>"
   ]
  },
  {
   "cell_type": "markdown",
   "id": "1cd9cb4c",
   "metadata": {},
   "source": [
    "Given a square matrix, calculate the absolute difference between the sums of its diagonals.\n",
    "\n",
    "Sample Input\n",
    "\n",
    "3\n",
    "11 2 4\n",
    "4 5 6\n",
    "10 8 -12\n",
    "\n",
    "Sample Output\n",
    "\n",
    "15"
   ]
  },
  {
   "cell_type": "code",
   "execution_count": 18,
   "id": "409e221a",
   "metadata": {},
   "outputs": [
    {
     "name": "stdout",
     "output_type": "stream",
     "text": [
      "3\n",
      "11 2 4\n",
      "4 5 6\n",
      "10 8 -12\n",
      "15\n"
     ]
    }
   ],
   "source": [
    "#\n",
    "# Complete the 'diagonalDifference' function below.\n",
    "#\n",
    "# The function is expected to return an INTEGER.\n",
    "# The function accepts 2D_INTEGER_ARRAY arr as parameter.\n",
    "#\n",
    "\n",
    "def diagonalDifference(arr):\n",
    "    sd1 = 0\n",
    "    sd2 = 0\n",
    "    for i in range(0, len(arr)):\n",
    "        sd1 += arr[i][i]\n",
    "        sd2 += arr[i][n-i-1]\n",
    "    return abs(sd1-sd2)\n",
    "\n",
    "n = int(input().strip())\n",
    "\n",
    "arr = []\n",
    "\n",
    "for _ in range(n):\n",
    "    arr.append(list(map(int, input().rstrip().split())))\n",
    "\n",
    "result = diagonalDifference(arr)\n",
    "print(result)"
   ]
  },
  {
   "cell_type": "code",
   "execution_count": null,
   "id": "2483111a",
   "metadata": {},
   "outputs": [],
   "source": []
  }
 ],
 "metadata": {
  "kernelspec": {
   "display_name": "Python 3",
   "language": "python",
   "name": "python3"
  },
  "language_info": {
   "codemirror_mode": {
    "name": "ipython",
    "version": 3
   },
   "file_extension": ".py",
   "mimetype": "text/x-python",
   "name": "python",
   "nbconvert_exporter": "python",
   "pygments_lexer": "ipython3",
   "version": "3.8.8"
  }
 },
 "nbformat": 4,
 "nbformat_minor": 5
}

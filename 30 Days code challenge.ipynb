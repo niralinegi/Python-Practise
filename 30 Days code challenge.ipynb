{
 "cells": [
  {
   "cell_type": "markdown",
   "metadata": {},
   "source": [
    "# Day 8: Dictionaries and Maps"
   ]
  },
  {
   "cell_type": "markdown",
   "metadata": {},
   "source": [
    "Input Format\n",
    "\n",
    "The first line contains an integer, , denoting the number of entries in the phone book.\n",
    "Each of the  subsequent lines describes an entry in the form of  space-separated values on a single line. The first value is a friend's name, and the second value is an -digit phone number.\n",
    "\n",
    "After the  lines of phone book entries, there are an unknown number of lines of queries. Each line (query) contains a  to look up, and you must continue reading lines until there is no more input.\n",
    "\n",
    "Note: Names consist of lowercase English alphabetic letters and are first names only.\n",
    "\n",
    "Constraints\n",
    "\n",
    "Output Format\n",
    "\n",
    "On a new line for each query, print Not found if the name has no corresponding entry in the phone book; otherwise, print the full  and  in the format name=phoneNumber.\n",
    "\n",
    "Sample Input\n",
    "\n",
    "3\n",
    "sam 99912222\n",
    "tom 11122222\n",
    "harry 12299933\n",
    "sam\n",
    "edward\n",
    "harry\n",
    "Sample Output\n",
    "\n",
    "sam=99912222\n",
    "Not found\n",
    "harry=12299933"
   ]
  },
  {
   "cell_type": "code",
   "execution_count": 1,
   "metadata": {},
   "outputs": [
    {
     "name": "stdout",
     "output_type": "stream",
     "text": [
      "\n"
     ]
    },
    {
     "ename": "ValueError",
     "evalue": "invalid literal for int() with base 10: ''",
     "output_type": "error",
     "traceback": [
      "\u001b[1;31m---------------------------------------------------------------------------\u001b[0m",
      "\u001b[1;31mValueError\u001b[0m                                Traceback (most recent call last)",
      "\u001b[1;32m<ipython-input-1-118631d9678b>\u001b[0m in \u001b[0;36m<module>\u001b[1;34m\u001b[0m\n\u001b[1;32m----> 1\u001b[1;33m \u001b[0mn\u001b[0m \u001b[1;33m=\u001b[0m \u001b[0mint\u001b[0m\u001b[1;33m(\u001b[0m\u001b[0minput\u001b[0m\u001b[1;33m(\u001b[0m\u001b[1;33m)\u001b[0m\u001b[1;33m)\u001b[0m\u001b[1;33m\u001b[0m\u001b[1;33m\u001b[0m\u001b[0m\n\u001b[0m\u001b[0;32m      2\u001b[0m \u001b[0mname_numbers\u001b[0m \u001b[1;33m=\u001b[0m \u001b[1;33m[\u001b[0m\u001b[0minput\u001b[0m\u001b[1;33m.\u001b[0m\u001b[0msplit\u001b[0m\u001b[1;33m(\u001b[0m\u001b[1;33m)\u001b[0m \u001b[1;32mfor\u001b[0m \u001b[0m_\u001b[0m \u001b[1;32min\u001b[0m \u001b[0mrange\u001b[0m\u001b[1;33m(\u001b[0m\u001b[0mn\u001b[0m\u001b[1;33m)\u001b[0m\u001b[1;33m]\u001b[0m\u001b[1;33m\u001b[0m\u001b[1;33m\u001b[0m\u001b[0m\n\u001b[0;32m      3\u001b[0m \u001b[0mphone_book\u001b[0m \u001b[1;33m=\u001b[0m \u001b[1;33m{\u001b[0m\u001b[0mk\u001b[0m\u001b[1;33m:\u001b[0m\u001b[0mv\u001b[0m \u001b[1;32mfor\u001b[0m \u001b[0mk\u001b[0m\u001b[1;33m,\u001b[0m\u001b[0mv\u001b[0m \u001b[1;32min\u001b[0m \u001b[0mname_numbers\u001b[0m\u001b[1;33m}\u001b[0m\u001b[1;33m\u001b[0m\u001b[1;33m\u001b[0m\u001b[0m\n\u001b[0;32m      4\u001b[0m \u001b[1;33m\u001b[0m\u001b[0m\n\u001b[0;32m      5\u001b[0m \u001b[1;32mdef\u001b[0m \u001b[0mcheck_dict\u001b[0m\u001b[1;33m(\u001b[0m\u001b[0mname\u001b[0m\u001b[1;33m)\u001b[0m\u001b[1;33m:\u001b[0m\u001b[1;33m\u001b[0m\u001b[1;33m\u001b[0m\u001b[0m\n",
      "\u001b[1;31mValueError\u001b[0m: invalid literal for int() with base 10: ''"
     ]
    }
   ],
   "source": [
    "n = int(input())\n",
    "name_numbers = [input.split() for _ in range(n)]\n",
    "phone_book = {k:v for k,v in name_numbers}\n",
    "\n",
    "def check_dict(name):\n",
    "    if name in phone_book:\n",
    "        print(name+\"=\"+phone_book[name])\n",
    "    else:\n",
    "        print('Not found')\n",
    "\n",
    "while name != 'exit':\n",
    "    try:\n",
    "        name = input()\n",
    "        check_dict(name)\n",
    "    except EOFError:\n",
    "        break\n",
    "        "
   ]
  },
  {
   "cell_type": "markdown",
   "metadata": {},
   "source": [
    "# Day 9: Recursion"
   ]
  },
  {
   "cell_type": "markdown",
   "metadata": {},
   "source": [
    "Function Description\n",
    "Complete the factorial function in the editor below. Be sure to use recursion.\n",
    "\n",
    "factorial has the following paramter:\n",
    "\n",
    "int n: an integer\n",
    "Returns\n",
    "\n",
    "int: the factorial of \n",
    "Note: If you fail to use recursion or fail to name your recursive function factorial or Factorial, you will get a score of .\n",
    "\n",
    "Input Format\n",
    "\n",
    "A single integer,  (the argument to pass to factorial).\n",
    "\n",
    "Constraints\n",
    "\n",
    "Your submission must contain a recursive function named factorial.\n",
    "Sample Input\n",
    "\n",
    "3\n",
    "Sample Output\n",
    "\n",
    "6"
   ]
  },
  {
   "cell_type": "code",
   "execution_count": 3,
   "metadata": {},
   "outputs": [
    {
     "name": "stdout",
     "output_type": "stream",
     "text": [
      "5\n",
      "120\n"
     ]
    }
   ],
   "source": [
    "def factorial(n):\n",
    "    if n <=1:\n",
    "        return 1\n",
    "    else:\n",
    "        fact = n*factorial(n-1)\n",
    "    return fact\n",
    "    \n",
    "n = int(input().strip())\n",
    "result = factorial(n)\n",
    "print(result)\n"
   ]
  },
  {
   "cell_type": "markdown",
   "metadata": {},
   "source": [
    "# Day 10: Binary Numbers"
   ]
  },
  {
   "cell_type": "markdown",
   "metadata": {},
   "source": [
    "In this HackerRank Day 10 Binary Numbers 30 days of code problem set, we need to develop a program that can accept integer as an input and then convert it into a binary number and then into in base 10 integer. we need to print the base 10 integer that denotes the maximum number of consecutive 1's in the binary representation of the input.\n",
    "Sample Input 1\n",
    "5\n",
    "Sample Output 1\n",
    "1\n"
   ]
  },
  {
   "cell_type": "code",
   "execution_count": 41,
   "metadata": {},
   "outputs": [
    {
     "name": "stdout",
     "output_type": "stream",
     "text": [
      "439\n",
      "[1, 1, 1, 0, 1, 1, 0, 1, 1]\n",
      "3\n"
     ]
    }
   ],
   "source": [
    "def binary(n):\n",
    "    \n",
    "    while n > 0:\n",
    "        rem = n % 2\n",
    "        n = n//2\n",
    "        binnum.append(rem)\n",
    "    return binnum\n",
    "\n",
    "n = int(input().strip())\n",
    "binnum = []\n",
    "binnum = binary(n)\n",
    "print(binnum)\n",
    "def maxone(binnum):\n",
    "    count = 0\n",
    "    result = 0\n",
    "    for i in range(0, len(binnum)):\n",
    "        if binnum[i] == 0:\n",
    "            count = 0\n",
    "        else:\n",
    "            count+=1\n",
    "            result = max(count, result)\n",
    "    return result\n",
    "\n",
    "print(maxone(binnum))\n"
   ]
  },
  {
   "cell_type": "markdown",
   "metadata": {},
   "source": [
    "# Day 11: 2D Arrays"
   ]
  },
  {
   "cell_type": "code",
   "execution_count": 43,
   "metadata": {},
   "outputs": [
    {
     "name": "stdout",
     "output_type": "stream",
     "text": [
      "1 1 1 0 0 0\n",
      "0 1 0 0 0 0\n",
      "1 1 1 0 0 0\n",
      "0 0 2 4 4 0\n",
      "0 0 0 2 0 0\n",
      "0 0 1 2 4 0\n",
      "19\n"
     ]
    }
   ],
   "source": [
    "arr = []\n",
    "\n",
    "for _ in range(6):\n",
    "    arr.append(list(map(int, input().rstrip().split())))\n",
    "    sum = 0\n",
    "    tarr = []\n",
    "    \n",
    "for l in range(0,4):\n",
    "    for k in range(0,4):\n",
    "        for i in range(l,l+3):\n",
    "            for j in range(k,k+3):\n",
    "                if i == l+1 and ( j == k or j == k+2):\n",
    "                    continue\n",
    "                else:\n",
    "                    sum += arr[i][j]\n",
    "        tarr.append(sum)\n",
    "        sum = 0\n",
    "    \n",
    "print(max(tarr))"
   ]
  },
  {
   "cell_type": "markdown",
   "metadata": {},
   "source": [
    "# Day 12: Inheritance"
   ]
  },
  {
   "cell_type": "markdown",
   "metadata": {},
   "source": [
    "Task\n",
    "You are given two classes, Person and Student, where Person is the base class and Student is the derived class. Completed code for Person and a declaration for Student are provided for you in the editor. Observe that Student inherits all the properties of Person.\n",
    "\n",
    "Complete the Student class by writing the following:\n",
    "\n",
    "A Student class constructor, which has  parameters:\n",
    "A string, firstName.\n",
    "A string, lastName.\n",
    "An integer, idNumber.\n",
    "An integer array (or vector) of test scores, scores.\n",
    "A char calculate() method that calculates a Student object's average and returns the grade character representative of their calculated average:\n",
    "Sample Input:\n",
    "\n",
    "Heraldo Memelli 8135627\n",
    "2\n",
    "100 80\n",
    "\n",
    "Sample Output:\n",
    "\n",
    " Name: Memelli, Heraldo\n",
    " ID: 8135627\n",
    " Grade: O"
   ]
  },
  {
   "cell_type": "code",
   "execution_count": 49,
   "metadata": {},
   "outputs": [
    {
     "name": "stdout",
     "output_type": "stream",
     "text": [
      "Heraldo Memelli 8135627\n",
      "2\n",
      "10 30\n",
      "Name: Memelli, Heraldo\n",
      "ID: 8135627\n",
      "Grade: T\n"
     ]
    }
   ],
   "source": [
    "class Person:\n",
    "    def __init__(self, firstName, lastName, idNumber):\n",
    "        self.firstName = firstName\n",
    "        self.lastName = lastName\n",
    "        self.idNumber = idNumber\n",
    "    def printPerson(self):\n",
    "        print(\"Name:\", self.lastName + \",\", self.firstName)\n",
    "        print(\"ID:\", self.idNumber)\n",
    "\n",
    "class Student(Person):\n",
    "    def __init__(self, firstName, lastName, idNumber, scores):\n",
    "        Person.__init__(self, firstName, lastName, idNumber)\n",
    "        self.scores = scores\n",
    "        \n",
    "    def calculate(self):\n",
    "        sum_scores = 0\n",
    "        average = 0\n",
    "        for i in range(len(scores)):\n",
    "            sum_scores += scores[i]\n",
    "        average = sum_scores/len(scores)\n",
    "        if average <= 100 and average >= 90:\n",
    "            return 'O'\n",
    "        elif average <= 90 and average >= 80:\n",
    "            return 'E'\n",
    "        elif average <= 80 and average >= 70:\n",
    "            return 'A'\n",
    "        elif average <= 70 and average >= 55:\n",
    "            return 'P'\n",
    "        elif average <= 55 and average >= 40:\n",
    "            return 'D'\n",
    "        else:\n",
    "            return 'T'\n",
    "\n",
    "line = input().split()\n",
    "firstName = line[0]\n",
    "lastName = line[1]\n",
    "idNum = line[2]\n",
    "numScores = int(input()) # not needed for Python\n",
    "scores = list( map(int, input().split()) )\n",
    "s = Student(firstName, lastName, idNum, scores)\n",
    "s.printPerson()\n",
    "print(\"Grade:\", s.calculate())"
   ]
  },
  {
   "cell_type": "code",
   "execution_count": null,
   "metadata": {},
   "outputs": [],
   "source": []
  }
 ],
 "metadata": {
  "kernelspec": {
   "display_name": "Python 3",
   "language": "python",
   "name": "python3"
  },
  "language_info": {
   "codemirror_mode": {
    "name": "ipython",
    "version": 3
   },
   "file_extension": ".py",
   "mimetype": "text/x-python",
   "name": "python",
   "nbconvert_exporter": "python",
   "pygments_lexer": "ipython3",
   "version": "3.8.3"
  }
 },
 "nbformat": 4,
 "nbformat_minor": 4
}

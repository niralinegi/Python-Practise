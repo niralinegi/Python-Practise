{
 "cells": [
  {
   "cell_type": "markdown",
   "metadata": {},
   "source": [
    "<b> 1. Add Two numbers </b>"
   ]
  },
  {
   "cell_type": "code",
   "execution_count": 3,
   "metadata": {},
   "outputs": [
    {
     "name": "stdout",
     "output_type": "stream",
     "text": [
      "Enter two numbers: 4.5 7.8\n",
      "Sum of two numbers 4.5 and 7.8 is 12.3\n"
     ]
    }
   ],
   "source": [
    "def add(*args):\n",
    "    sum = num1+num2\n",
    "    return sum\n",
    "\n",
    "num1, num2= map(float, input(\"Enter two numbers: \").split())\n",
    "print(f'Sum of two numbers {num1} and {num2} is {add(num1, num2)}')"
   ]
  },
  {
   "cell_type": "markdown",
   "metadata": {},
   "source": [
    "<b> 2. Find factorial of a number </b>"
   ]
  },
  {
   "cell_type": "code",
   "execution_count": 36,
   "metadata": {},
   "outputs": [
    {
     "name": "stdout",
     "output_type": "stream",
     "text": [
      "Enter number to find factorial of: 1\n",
      "Factorial of number 1 is 1\n"
     ]
    }
   ],
   "source": [
    "def factorial(n):\n",
    "    if n < 0:\n",
    "        return 0\n",
    "    else:\n",
    "        fact = 1\n",
    "        while(n > 1):\n",
    "            fact = fact * n\n",
    "            n = n-1\n",
    "        return fact\n",
    "\n",
    "num = int(input('Enter number to find factorial of: '))\n",
    "print(f'Factorial of number {num} is {factorial(num)}')"
   ]
  },
  {
   "cell_type": "markdown",
   "metadata": {},
   "source": [
    "<b> 3. Find maximum of two numbers </b>"
   ]
  },
  {
   "cell_type": "code",
   "execution_count": 37,
   "metadata": {},
   "outputs": [
    {
     "name": "stdout",
     "output_type": "stream",
     "text": [
      "Enter two numbers: 2 3\n",
      "3\n"
     ]
    }
   ],
   "source": [
    "def find_max(*args):\n",
    "    if num1 > num2:\n",
    "        max = num1\n",
    "    else:\n",
    "        max = num2\n",
    "    return max\n",
    "\n",
    "num1, num2 = map(int, input('Enter two numbers: ').split())\n",
    "res = find_max(num1, num2)\n",
    "print(res)"
   ]
  },
  {
   "cell_type": "markdown",
   "metadata": {},
   "source": [
    "<b> 4. Python program for Simple Interest </b>"
   ]
  },
  {
   "cell_type": "code",
   "execution_count": 38,
   "metadata": {},
   "outputs": [
    {
     "name": "stdout",
     "output_type": "stream",
     "text": [
      "Enter principal, time and rate of interest: 10000 5 5\n",
      "2500.0\n"
     ]
    }
   ],
   "source": [
    "def sim_int(*args):\n",
    "    interest = (p * t * r)/100\n",
    "    return interest\n",
    "\n",
    "p,t,r = map(int, input('Enter principal, time and rate of interest: ').split())\n",
    "interest = sim_int(p,t,r)\n",
    "print(interest)"
   ]
  },
  {
   "cell_type": "markdown",
   "metadata": {},
   "source": [
    "# List Programs"
   ]
  },
  {
   "cell_type": "markdown",
   "metadata": {},
   "source": [
    "<b> 5. Program to interchange first and last elements in a list </b>"
   ]
  },
  {
   "cell_type": "code",
   "execution_count": 46,
   "metadata": {},
   "outputs": [
    {
     "name": "stdout",
     "output_type": "stream",
     "text": [
      "Enter list of numbers: 1 2 4 6 2\n",
      "Swapped list is: ['2', '2', '4', '6', '1']\n"
     ]
    }
   ],
   "source": [
    "def swapList(newList):\n",
    "    length = len(newList)\n",
    "    temp = newList[0]\n",
    "    newList[0] = newList[length-1]\n",
    "    newList[length-1] = temp\n",
    "    return newList\n",
    "    \n",
    "newList = list(input('Enter list of numbers: ').split())\n",
    "print(f'Swapped list is: {swapList(newList)}')"
   ]
  },
  {
   "cell_type": "markdown",
   "metadata": {},
   "source": [
    "<b> 6. Python program to swap two elements in a list </b>"
   ]
  },
  {
   "cell_type": "code",
   "execution_count": 48,
   "metadata": {},
   "outputs": [
    {
     "name": "stdout",
     "output_type": "stream",
     "text": [
      "Enter list of numbers: 2 4 12 90 14 18 8 3\n",
      "Enter position of first number: 5\n",
      "Enter position of second number: 6\n",
      "Swapped list is: ['2', '4', '12', '90', '14', '8', '18', '3']\n"
     ]
    }
   ],
   "source": [
    "def swapList(newList, pos1, pos2):\n",
    "    \n",
    "    temp = newList[pos1]\n",
    "    newList[pos1] = newList[pos2]\n",
    "    newList[pos2] = temp\n",
    "    return newList\n",
    "    \n",
    "newList = list(input('Enter list of numbers: ').split())\n",
    "pos1 = int(input('Enter position of first number: '))\n",
    "pos2 = int(input('Enter position of second number: '))\n",
    "\n",
    "print(f'Swapped list is: {swapList(newList, pos1, pos2)}')"
   ]
  },
  {
   "cell_type": "markdown",
   "metadata": {},
   "source": [
    "<b> 7. Reversing a list in Python </b>"
   ]
  },
  {
   "cell_type": "code",
   "execution_count": 55,
   "metadata": {},
   "outputs": [
    {
     "name": "stdout",
     "output_type": "stream",
     "text": [
      "Enter list of numbers: 1 2 3 4 5\n",
      "Reversed list is: ['5', '4', '3', '2', '1']\n"
     ]
    }
   ],
   "source": [
    "def reverseList(newList):\n",
    "    # OR revList = reversed(newList)\n",
    "    # OR revList = newList[::1]\n",
    "    newList.reverse()\n",
    "    # OR return [ele for ele in revList]\n",
    "    return newList\n",
    "\n",
    "newList = list(input('Enter list of numbers: ').split())\n",
    "print(f'Reversed list is: {reverseList(newList)}')"
   ]
  },
  {
   "cell_type": "markdown",
   "metadata": {},
   "source": [
    "<b> 8. Python program to find smallest number in a list </b>"
   ]
  },
  {
   "cell_type": "code",
   "execution_count": 85,
   "metadata": {},
   "outputs": [
    {
     "name": "stdout",
     "output_type": "stream",
     "text": [
      "Enter list of numbers: 2 3 0 9 18\n",
      "Smallest number is: 0\n"
     ]
    }
   ],
   "source": [
    "# Approach 1\n",
    "# min1 = newList[0]\n",
    "\n",
    "# for ele in range(len(newList)):\n",
    "#     if newList[ele] < min1:\n",
    "#         min1 = newList[ele]\n",
    "\n",
    "# newList = list(input('Enter list of numbers: ').split())\n",
    "\n",
    "# print(f'Smallest number is: {min1}')\n",
    "#---------------------------------------------------------------\n",
    "# Approach 2\n",
    "# newList = list(input('Enter list of numbers: ').split())\n",
    "# newList.sort()\n",
    "# print(f'Smallest number is: {newList[0]}')\n",
    "#----------------------------------------------------------------\n",
    "# Approach 3\n",
    "\n",
    "newList = list(input('Enter list of numbers: ').split())\n",
    "print(f'Smallest number is: {min(newList)}')"
   ]
  },
  {
   "cell_type": "markdown",
   "metadata": {},
   "source": [
    "<b> 9. Python program to find second larget number in a list </b>\n",
    "Sorting is an easier but less optimal method. Given below is O(n) algorithm to do the same"
   ]
  },
  {
   "cell_type": "code",
   "execution_count": 94,
   "metadata": {},
   "outputs": [
    {
     "name": "stdout",
     "output_type": "stream",
     "text": [
      "Enter list of numbers: 2 3 5 18 90 32\n",
      "[2, 3, 5, 18, 90, 32]\n",
      "6\n",
      "90\n",
      "32\n",
      "Second max number in list is: 32\n"
     ]
    }
   ],
   "source": [
    "list1 = [int(x) for x in input(\"Enter list of numbers: \").split()]\n",
    "\n",
    "print(list1)\n",
    "\n",
    "mx = max(list1[0], list1[1])\n",
    "secondmx = min(list1[0], list1[1])\n",
    "n = len(list1)\n",
    "print(n)\n",
    "\n",
    "for i in range(2,n):\n",
    "    if list1[i] > mx:\n",
    "        secondmx = mx\n",
    "        mx = list1[i]\n",
    "    elif list1[i] > secondmx and mx != list1[i]:\n",
    "        secondmx = list1[i]\n",
    "\n",
    "print(mx)\n",
    "print(secondmx)\n",
    "print(f'Second max number in list is: {secondmx}')"
   ]
  },
  {
   "cell_type": "markdown",
   "metadata": {},
   "source": [
    "<b> 10. Given a list of integers, find N largest elements assuming size of list is greater than or equal to N </b>"
   ]
  },
  {
   "cell_type": "code",
   "execution_count": 100,
   "metadata": {},
   "outputs": [
    {
     "name": "stdout",
     "output_type": "stream",
     "text": [
      "Enter list of numbers: 2 3 18 39 90\n",
      "Enter size: 2\n",
      "[90, 39]\n"
     ]
    }
   ],
   "source": [
    "# approach 1\n",
    "# list1 = [int(x) for x in input(\"Enter list of numbers: \").split()]\n",
    "# list1.sort(reverse = True)\n",
    "# size = int(input('Enter size: '))\n",
    "# list1[:size]\n",
    "\n",
    "list1 = [int(x) for x in input(\"Enter list of numbers: \").split()]\n",
    "size = int(input('Enter size: '))\n",
    "def Nmaxelements(list1, size):\n",
    "    final_list = []\n",
    "    for i in range(0, size):\n",
    "        max1 = 0\n",
    "        for j in range(len(list1)):\n",
    "            if list1[j] > max1:\n",
    "                max1 = list1[j]\n",
    "        list1.remove(max1)\n",
    "        final_list.append(max1)\n",
    "    return final_list\n",
    "            \n",
    "\n",
    "print(f'{Nmaxelements(list1, size)}')"
   ]
  },
  {
   "cell_type": "code",
   "execution_count": 101,
   "metadata": {},
   "outputs": [
    {
     "name": "stdout",
     "output_type": "stream",
     "text": [
      "4 6 8 10 12 14 "
     ]
    }
   ],
   "source": [
    "start, end = 4, 15\n",
    "\n",
    "for num in range(4,15):\n",
    "    if num % 2 == 0:\n",
    "        print(num, end=\" \")\n",
    "        \n"
   ]
  },
  {
   "cell_type": "markdown",
   "metadata": {},
   "source": [
    "<b> Decorator Example </b>"
   ]
  },
  {
   "cell_type": "code",
   "execution_count": null,
   "metadata": {},
   "outputs": [],
   "source": [
    "from time import time\n",
    "\n",
    "def performance(func):\n",
    "    def check_perf(*args, **kwargs):\n",
    "        start_time = time()\n",
    "        result = func(*args, **kwargs)\n",
    "        end_time = time()\n",
    "        print(f'It took {end_time-start_time} ms time for the function to run')\n",
    "        return result\n",
    "    return check_perf\n",
    "\n",
    "@performance\n",
    "def square_num():\n",
    "    for i in range(1, 10000000):\n",
    "        i*i\n",
    "        \n",
    "square_num()"
   ]
  },
  {
   "cell_type": "markdown",
   "metadata": {},
   "source": [
    "Authentication Example"
   ]
  },
  {
   "cell_type": "code",
   "execution_count": 13,
   "metadata": {},
   "outputs": [
    {
     "name": "stdout",
     "output_type": "stream",
     "text": [
      "message has been sent\n",
      "Sam is not authenticated to send message\n"
     ]
    }
   ],
   "source": [
    "# Create an @authenticated decorator that only allows the function to run is user1 has 'valid' set to True:\n",
    "user1 = {\n",
    "    'name': 'Sorna',\n",
    "    'valid': True #changing this will either run or not run the message_friends function.\n",
    "}\n",
    "user2 = {\n",
    "    'name': 'Sam',\n",
    "    'valid': False #changing this will either run or not run the message_friends function.\n",
    "}\n",
    "\n",
    "def authenticated(fn):\n",
    "  def check_auth(*args, **kwargs):\n",
    "    if args[0]['valid']:\n",
    "      fn(*args, **kwargs)\n",
    "      return fn\n",
    "    else:\n",
    "      name = args[0]['name']\n",
    "      print(f'{name} is not authenticated to send message')\n",
    "  return check_auth\n",
    "\n",
    "@authenticated\n",
    "def message_friends(user):\n",
    "    print('message has been sent')\n",
    "\n",
    "message_friends(user1)\n",
    "message_friends(user2)"
   ]
  },
  {
   "cell_type": "markdown",
   "metadata": {},
   "source": [
    "<b> Generator </b>"
   ]
  },
  {
   "cell_type": "code",
   "execution_count": 23,
   "metadata": {},
   "outputs": [
    {
     "name": "stdout",
     "output_type": "stream",
     "text": [
      "0\n",
      "1\n",
      "2\n",
      "<generator object generator_func at 0x0000013185C71040>\n"
     ]
    }
   ],
   "source": [
    "def generator_func(num):\n",
    "    for i in range(num):\n",
    "        yield i\n",
    "        \n",
    "g = generator_func(100)\n",
    "print(next(g))\n",
    "print(next(g))\n",
    "print(next(g))\n",
    "\n",
    "print(g)"
   ]
  },
  {
   "cell_type": "code",
   "execution_count": 44,
   "metadata": {},
   "outputs": [
    {
     "name": "stdout",
     "output_type": "stream",
     "text": [
      "It took 0.0 ms time for the function to run\n",
      "0\n",
      "1\n",
      "1\n",
      "2\n",
      "3\n",
      "5\n",
      "8\n",
      "13\n",
      "21\n",
      "34\n",
      "It took 0.0 ms time for the function to run\n"
     ]
    },
    {
     "data": {
      "text/plain": [
       "55"
      ]
     },
     "execution_count": 44,
     "metadata": {},
     "output_type": "execute_result"
    }
   ],
   "source": [
    "from time import time\n",
    "\n",
    "def performance(func):\n",
    "    def check_perf(*args, **kwargs):\n",
    "        start_time = time()\n",
    "        result = func(*args, **kwargs)\n",
    "        end_time = time()\n",
    "        print(f'It took {end_time-start_time} ms time for the function to run')\n",
    "        return result\n",
    "    return check_perf\n",
    "\n",
    "@performance\n",
    "def fib(num):\n",
    "    a = 0\n",
    "    b = 1\n",
    "    for i in range(num):\n",
    "        yield a\n",
    "        temp = a\n",
    "        a = b\n",
    "        b = temp + b\n",
    "        \n",
    "for i in fib(10):\n",
    "    print(i)\n",
    "\n",
    "@performance\n",
    "def fibonnaci(num):\n",
    "    a = 0\n",
    "    b = 1\n",
    "    if num < 0:\n",
    "        print('Incorrect Input')\n",
    "    elif num==0:\n",
    "        return 0\n",
    "    elif num==1:\n",
    "        return 1\n",
    "    else:\n",
    "        for i in range(1, num):\n",
    "            c = a+b\n",
    "            a = b\n",
    "            b = c\n",
    "        return b\n",
    "    \n",
    "print(fibonnaci(10))\n",
    "        \n",
    "        "
   ]
  },
  {
   "cell_type": "markdown",
   "metadata": {},
   "source": [
    "<b> Write Regular Expression for password to parse:\n",
    "    1. At least 8 char long\n",
    "    2. contain any sort of letters, numbers, $%#@ "
   ]
  },
  {
   "cell_type": "code",
   "execution_count": 56,
   "metadata": {},
   "outputs": [
    {
     "name": "stdout",
     "output_type": "stream",
     "text": [
      "<re.Match object; span=(0, 8), match='hdksdss6'>\n"
     ]
    }
   ],
   "source": [
    "import re\n",
    "\n",
    "password = re.compile(r\"[\\w\\W]{7,}[0-9]$\")\n",
    "string = 'hdksdss6'\n",
    "check = password.fullmatch(string)\n",
    "print(check)\n"
   ]
  },
  {
   "cell_type": "code",
   "execution_count": 60,
   "metadata": {},
   "outputs": [
    {
     "name": "stdout",
     "output_type": "stream",
     "text": [
      "{1: 'Geeks', 2: 'For', 3: 'Geeks'}\n"
     ]
    },
    {
     "data": {
      "text/plain": [
       "{2: 'Geeks', 4: 'For', 3: 'Geeks'}"
      ]
     },
     "execution_count": 60,
     "metadata": {},
     "output_type": "execute_result"
    }
   ],
   "source": [
    "Dict = dict({1: 'Geeks', 2: 'For', 3:'Geeks'})\n",
    "dict2 = {2: 'Geeks', 4: 'For', 3:'Geeks'}\n",
    "print(Dict)\n",
    "dict2\n"
   ]
  },
  {
   "cell_type": "markdown",
   "metadata": {},
   "source": [
    "<b> Copy vs Deepcopy </b>"
   ]
  },
  {
   "cell_type": "code",
   "execution_count": 61,
   "metadata": {},
   "outputs": [
    {
     "name": "stdout",
     "output_type": "stream",
     "text": [
      "Before changes in list1:\n",
      "[1, 2, 3]\n",
      "[1, 2, 3]\n",
      "After changes in list1:\n",
      "[1, 2, 4]\n",
      "[1, 2, 4]\n"
     ]
    }
   ],
   "source": [
    "list1 = [1,2,3]\n",
    "list2 = list1\n",
    "print('Before changes in list1:')\n",
    "print(f'{list1}')\n",
    "print(f'{list2}')\n",
    "\n",
    "list1[2]= 4\n",
    "print('After changes in list1:')\n",
    "print(f'{list1}')\n",
    "print(f'{list2}')"
   ]
  },
  {
   "cell_type": "code",
   "execution_count": 72,
   "metadata": {},
   "outputs": [
    {
     "name": "stdout",
     "output_type": "stream",
     "text": [
      "Before changes in listc1:\n",
      "[1, 2, 3]\n",
      "[1, 2, 3]\n",
      "After update in listc1:\n",
      "[1, 2, 4]\n",
      "[1, 2, 3]\n",
      "After adding value in listc1:\n",
      "[1, 2, 4, 5]\n",
      "[1, 2, 3]\n",
      "After updating value in listc4:\n",
      "[[1, 2, 3], [4, 5, 6]]\n",
      "[[1, 2, 3], [10, 11, 12]]\n",
      "Before adding value in listc4:\n",
      "[1, 2, 4, 5]\n",
      "[1, 2, 3]\n",
      "After adding value in listc4:\n",
      "[[1, 2, 3], [4, 5, 6]]\n",
      "[[1, 2, 3], [10, 11, 12], [7, 8]]\n",
      "[[1, 1, 1], [2, 2, 2], [3, 3, 3]]\n",
      "[[1, 1, 1], [2, 2, 2], [3, 3, 3]]\n",
      "Old list: [[1, 1, 1], [2, 'AA', 2], [3, 3, 3]]\n",
      "New list: [[1, 1, 1], [2, 'AA', 2], [3, 3, 3]]\n"
     ]
    }
   ],
   "source": [
    "import copy \n",
    "\n",
    "listc1 = [1,2,3]\n",
    "listc2 = copy.copy(listc1)\n",
    "\n",
    "print('Before changes in listc1:')\n",
    "print(f'{listc1}')\n",
    "print(f'{listc2}')\n",
    "\n",
    "listc1[2]=4\n",
    "\n",
    "print('After update in listc1:')\n",
    "print(f'{listc1}')\n",
    "print(f'{listc2}')\n",
    "\n",
    "listc1.append(5)\n",
    "\n",
    "print('After adding value in listc1:')\n",
    "print(f'{listc1}')\n",
    "print(f'{listc2}')\n",
    "\n",
    "listc3 = [[1,2,3], [4,5,6]]\n",
    "listc4 = copy.copy(listc3)\n",
    "\n",
    "listc4[1] = [10,11,12]\n",
    "\n",
    "print('After updating value in listc4:')\n",
    "print(f'{listc3}')\n",
    "print(f'{listc4}')\n",
    "\n",
    "print('Before adding value in listc4:')\n",
    "print(f'{listc1}')\n",
    "print(f'{listc2}')\n",
    "\n",
    "listc4.append([7,8])\n",
    "\n",
    "print('After adding value in listc4:')\n",
    "print(f'{listc3}')\n",
    "print(f'{listc4}')\n",
    "\n",
    "\n",
    "\n",
    "import copy\n",
    "\n",
    "old_list = [[1, 1, 1], [2, 2, 2], [3, 3, 3]]\n",
    "new_list = copy.copy(old_list)\n",
    "\n",
    "print(old_list)\n",
    "print(new_list)\n",
    "\n",
    "old_list[1][1] = 'AA'\n",
    "\n",
    "print(\"Old list:\", old_list)\n",
    "print(\"New list:\", new_list)"
   ]
  },
  {
   "cell_type": "code",
   "execution_count": 65,
   "metadata": {},
   "outputs": [
    {
     "name": "stdout",
     "output_type": "stream",
     "text": [
      "Before changes in listdc1:\n",
      "[1, 2, 3]\n",
      "[1, 2, 3]\n",
      "After update in listdc1:\n",
      "[1, 2, 4]\n",
      "[1, 2, 3]\n",
      "After adding value in listdc1:\n",
      "[1, 2, 4, 5]\n",
      "[1, 2, 3]\n"
     ]
    }
   ],
   "source": [
    "import copy \n",
    "\n",
    "listdc1 = [1,2,3]\n",
    "listdc2 = copy.copy(listdc1)\n",
    "\n",
    "print('Before changes in listdc1:')\n",
    "print(f'{listdc1}')\n",
    "print(f'{listdc2}')\n",
    "\n",
    "listdc1[2]=4\n",
    "\n",
    "print('After update in listdc1:')\n",
    "print(f'{listdc1}')\n",
    "print(f'{listdc2}')\n",
    "\n",
    "listdc1.append(5)\n",
    "\n",
    "print('After adding value in listdc1:')\n",
    "print(f'{listdc1}')\n",
    "print(f'{listdc2}')"
   ]
  },
  {
   "cell_type": "markdown",
   "metadata": {},
   "source": [
    "<b>Generators</b>"
   ]
  },
  {
   "cell_type": "code",
   "execution_count": 84,
   "metadata": {},
   "outputs": [
    {
     "name": "stdout",
     "output_type": "stream",
     "text": [
      "1625818706.0041192\n",
      "1625818706.169983\n"
     ]
    }
   ],
   "source": [
    "\n",
    "import random\n",
    "import time\n",
    "\n",
    "#print('Memory (before): {}Mb'.format(mem_profile.memory_usage_resource()))\n",
    "\n",
    "names = ['John', 'Corey', 'Adam', 'Smith']\n",
    "majors = ['Math', 'Engineering', 'Arts', 'CompScience']\n",
    "\n",
    "def people_list(num_people):\n",
    "      result = []\n",
    "      for i in range(num_people):\n",
    "        person = {\n",
    "          'id' : i,\n",
    "          'name' : random.choice(names),\n",
    "          'major' : random.choice(majors)\n",
    "      }\n",
    "      result.append(person)\n",
    "      return result\n",
    "\n",
    "def people_generator(num_people):\n",
    "      for i in xrange(num_people):\n",
    "            person = {\n",
    "          'id' : i,\n",
    "          'name' : random.choice(names),\n",
    "          'major' : random.choice(majors)\n",
    "      }\n",
    "      yield person\n",
    "\n",
    "t1 = time.time()\n",
    "people = people_list(1000)\n",
    "t2 = time.time()\n",
    "peoplegen = people_generator(1000)\n",
    "print(t1)\n",
    "print(t2)\n"
   ]
  },
  {
   "cell_type": "code",
   "execution_count": null,
   "metadata": {},
   "outputs": [],
   "source": []
  },
  {
   "cell_type": "code",
   "execution_count": null,
   "metadata": {},
   "outputs": [],
   "source": []
  },
  {
   "cell_type": "code",
   "execution_count": null,
   "metadata": {},
   "outputs": [],
   "source": []
  }
 ],
 "metadata": {
  "kernelspec": {
   "display_name": "Python 3",
   "language": "python",
   "name": "python3"
  },
  "language_info": {
   "codemirror_mode": {
    "name": "ipython",
    "version": 3
   },
   "file_extension": ".py",
   "mimetype": "text/x-python",
   "name": "python",
   "nbconvert_exporter": "python",
   "pygments_lexer": "ipython3",
   "version": "3.8.3"
  }
 },
 "nbformat": 4,
 "nbformat_minor": 4
}

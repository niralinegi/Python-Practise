{
 "cells": [
  {
   "cell_type": "code",
   "execution_count": 9,
   "id": "1fef51e6",
   "metadata": {},
   "outputs": [
    {
     "name": "stdout",
     "output_type": "stream",
     "text": [
      "BANANA\n",
      "Stuart 12\n"
     ]
    }
   ],
   "source": [
    "def minion_game(string):\n",
    "    player1 = 0\n",
    "    player2 = 0\n",
    "    \n",
    "    for i in range(len(string)):\n",
    "        if string[i] in ('A', 'E', 'I', 'O','U'):\n",
    "            player2 += len(string) - i\n",
    "        else:\n",
    "            player1 += len(string) - i\n",
    "    \n",
    "    if player1 > player2:\n",
    "        print(f'Stuart {player1}')\n",
    "    elif player2 > player1:\n",
    "        print(f'Kevin {player2}')\n",
    "    else:\n",
    "        print('Draw')\n",
    "            \n",
    "if __name__ == '__main__':\n",
    "    s = input()\n",
    "    minion_game(s)"
   ]
  },
  {
   "cell_type": "code",
   "execution_count": 12,
   "id": "45a67e59",
   "metadata": {},
   "outputs": [
    {
     "name": "stdout",
     "output_type": "stream",
     "text": [
      "AABCAAADA\n",
      "3\n",
      "AB\n",
      "CA\n",
      "AD\n"
     ]
    }
   ],
   "source": [
    "def merge_the_tools(string, k):\n",
    "    str_len = len(string)\n",
    "    substr_len = len(string) // k\n",
    "    for i in range(0, str_len, k):\n",
    "        uniq = ''\n",
    "        for c in string[i:i+k]:\n",
    "            if (c not in uniq):\n",
    "                uniq += c\n",
    "        print(uniq)\n",
    "        \n",
    "\n",
    "if __name__ == '__main__':\n",
    "    string, k = input(), int(input())\n",
    "    merge_the_tools(string, k)"
   ]
  },
  {
   "cell_type": "code",
   "execution_count": 21,
   "id": "f5fa791d",
   "metadata": {},
   "outputs": [
    {
     "name": "stdout",
     "output_type": "stream",
     "text": [
      "3\n",
      "CLASS ID NAME MARKS\n",
      "7 1 NIRALI 90\n",
      "8 2 SIDDHU 80\n",
      "6 3 SHUBHRA 85\n",
      "85.00\n"
     ]
    }
   ],
   "source": [
    "from collections import namedtuple\n",
    "n = int(input())\n",
    "cols = input().split()\n",
    "\n",
    "total = 0\n",
    "Students = namedtuple('Student', cols)\n",
    "for i in range(n):\n",
    "    Student = Students(*input().split())\n",
    "    total += int(Student.MARKS)\n",
    "    \n",
    "print('{:.2f}'.format(total/n))\n",
    "    \n",
    "\n"
   ]
  },
  {
   "cell_type": "code",
   "execution_count": 2,
   "id": "91ac5850",
   "metadata": {},
   "outputs": [
    {
     "name": "stdout",
     "output_type": "stream",
     "text": [
      "2\n",
      "banana chip 40\n"
     ]
    },
    {
     "ename": "KeyError",
     "evalue": "'banana chip'",
     "output_type": "error",
     "traceback": [
      "\u001b[1;31m---------------------------------------------------------------------------\u001b[0m",
      "\u001b[1;31mKeyError\u001b[0m                                  Traceback (most recent call last)",
      "\u001b[1;32m<ipython-input-2-f4544d1c534d>\u001b[0m in \u001b[0;36m<module>\u001b[1;34m\u001b[0m\n\u001b[0;32m     12\u001b[0m         \u001b[0modict\u001b[0m\u001b[1;33m[\u001b[0m\u001b[0mitem\u001b[0m\u001b[1;33m]\u001b[0m \u001b[1;33m+=\u001b[0m \u001b[0mprice\u001b[0m\u001b[1;33m\u001b[0m\u001b[1;33m\u001b[0m\u001b[0m\n\u001b[0;32m     13\u001b[0m     \u001b[1;32melse\u001b[0m\u001b[1;33m:\u001b[0m\u001b[1;33m\u001b[0m\u001b[1;33m\u001b[0m\u001b[0m\n\u001b[1;32m---> 14\u001b[1;33m         \u001b[0modict\u001b[0m\u001b[1;33m[\u001b[0m\u001b[0mitem\u001b[0m\u001b[1;33m]\u001b[0m \u001b[1;33m+=\u001b[0m \u001b[0mprice\u001b[0m\u001b[1;33m\u001b[0m\u001b[1;33m\u001b[0m\u001b[0m\n\u001b[0m\u001b[0;32m     15\u001b[0m \u001b[1;33m\u001b[0m\u001b[0m\n\u001b[0;32m     16\u001b[0m \u001b[1;33m\u001b[0m\u001b[0m\n",
      "\u001b[1;31mKeyError\u001b[0m: 'banana chip'"
     ]
    }
   ],
   "source": [
    "# Enter your code here. Read input from STDIN. Print output to STDOUT\n",
    "from collections import OrderedDict\n",
    "n = int(input())\n",
    "odict = OrderedDict()\n",
    "\n",
    "for i in range(n):\n",
    "    entry = input().split(' ')\n",
    "    item = \" \".join(entry[:-1])\n",
    "    price = entry[-1]\n",
    "    \n",
    "    if odict.get(item):\n",
    "        odict[item] += price\n",
    "    else:\n",
    "        odict[item] += price\n",
    "        \n",
    "    \n",
    "for i, v in odict.items():\n",
    "    print(i,v)"
   ]
  },
  {
   "cell_type": "code",
   "execution_count": 29,
   "id": "ff0f5922",
   "metadata": {},
   "outputs": [
    {
     "name": "stdout",
     "output_type": "stream",
     "text": [
      "banana chips 20\n",
      "banana chips\n"
     ]
    }
   ],
   "source": [
    "entry = input().split(' ')\n",
    "print(' '.join(entry[0:-1]))"
   ]
  },
  {
   "cell_type": "code",
   "execution_count": 6,
   "id": "2af2826a",
   "metadata": {},
   "outputs": [
    {
     "name": "stdout",
     "output_type": "stream",
     "text": [
      "2\n",
      "banana chips 30\n",
      "banana chips 40\n",
      "banana chips 70\n"
     ]
    }
   ],
   "source": [
    "# Enter your code here. Read input from STDIN. Print output to STDOUT\n",
    "from collections import OrderedDict\n",
    "\n",
    "n = int(input())\n",
    "odict = OrderedDict()\n",
    "\n",
    "for i in range(n):\n",
    "    entry = input().split(' ')\n",
    "    price = int(entry[-1])\n",
    "    item = \" \".join(entry[:-1])\n",
    "    \n",
    "    if odict.get(item):\n",
    "        odict[item] += price\n",
    "    else:\n",
    "        odict[item] = price\n",
    "        \n",
    "    \n",
    "for i, v in odict.items():\n",
    "    print(i,v)"
   ]
  },
  {
   "cell_type": "code",
   "execution_count": 16,
   "id": "559a0903",
   "metadata": {},
   "outputs": [
    {
     "name": "stdout",
     "output_type": "stream",
     "text": [
      "4\n",
      "abc\n",
      "abcd\n",
      "abcde\n",
      "abc\n",
      "3\n",
      "2 1 1\n"
     ]
    }
   ],
   "source": [
    "from collections import OrderedDict\n",
    "#define empty ordered dictionary, which counts occurences\n",
    "dict = OrderedDict()\n",
    "\n",
    "for i in range(int(input())):\n",
    "    #If input not in the dictionary, then add it\n",
    "    #else increment the counter\n",
    "    key = input()\n",
    "    if not key in dict.keys():\n",
    "        dict.update({key : 1})\n",
    "        continue\n",
    "    dict[key] += 1\n",
    "\n",
    "print(len(dict.keys()))\n",
    "print(*dict.values())"
   ]
  },
  {
   "cell_type": "code",
   "execution_count": 17,
   "id": "083613c0",
   "metadata": {},
   "outputs": [
    {
     "name": "stdout",
     "output_type": "stream",
     "text": [
      "4\n",
      "abc\n",
      "abcd\n",
      "abcde\n",
      "abc\n",
      "3\n",
      "2 1 1 "
     ]
    }
   ],
   "source": [
    "n = int(input())\n",
    "l = {}\n",
    "for i in range(n):\n",
    "    k= input()\n",
    "    if k in l:\n",
    "        l[k]+=1\n",
    "    else:\n",
    "        l[k] = 1\n",
    "print(len(l))\n",
    "for i in l:\n",
    "    print(l[i], end=\" \")"
   ]
  },
  {
   "cell_type": "markdown",
   "id": "b8f5ed73",
   "metadata": {},
   "source": [
    "### collections.Counter()\n",
    "A counter is a container that stores elements as dictionary keys, and their counts are stored as dictionary values."
   ]
  },
  {
   "cell_type": "code",
   "execution_count": 46,
   "id": "01280b0c",
   "metadata": {},
   "outputs": [
    {
     "name": "stdout",
     "output_type": "stream",
     "text": [
      "Enter the number of shoes for the shop inventory: \n",
      "10\n",
      "Enter the list of sizes available for the number of shoes entered above: \n",
      "2 3 4 5 6 8 7 6 5 18\n",
      "Enter the number of customers: \n",
      "6\n",
      "Enter the size of shoe and price offered by customer: \n",
      "6 55\n",
      "Enter the size of shoe and price offered by customer: \n",
      "6 45\n",
      "Enter the size of shoe and price offered by customer: \n",
      "6 55\n",
      "Enter the size of shoe and price offered by customer: \n",
      "18 60\n",
      "Enter the size of shoe and price offered by customer: \n",
      "10 50\n",
      "Enter the size of shoe and price offered by customer: \n",
      "8 20\n",
      "Total money earned by shopkeeper after the sale: \n",
      "180\n"
     ]
    }
   ],
   "source": [
    "# WAP to compute the total cost of shoes as per the availability of size\n",
    "\n",
    "from collections import Counter\n",
    "\n",
    "print('Enter the number of shoes for the shop inventory: ')\n",
    "n = int(input())\n",
    "print('Enter the list of sizes available for the number of shoes entered above: ')\n",
    "shoe_size = input().split(' ')\n",
    "cnt_shoe = Counter(shoe_size)\n",
    "    \n",
    "print('Enter the number of customers: ')    \n",
    "c = int(input())\n",
    "cost = 0\n",
    "for i in range(c):\n",
    "    print('Enter the size of shoe and price offered by customer: ')\n",
    "    c_shoe = input().split(' ')\n",
    "    if c_shoe[0] in list(cnt_shoe.keys()):\n",
    "        cost += int(c_shoe[1])\n",
    "        cnt_shoe[c_shoe[0]] -= 1\n",
    "        if cnt_shoe[c_shoe[0]] == 0:\n",
    "            del cnt_shoe[c_shoe[0]]\n",
    "            \n",
    "print('Total money earned by shopkeeper after the sale: ')\n",
    "print(cost)\n",
    "        "
   ]
  },
  {
   "cell_type": "markdown",
   "id": "fc86ecd5",
   "metadata": {},
   "source": [
    "#### DefaultDict Tutorial\n",
    "The defaultdict tool is a container in the collections class of Python. It's similar to the usual dictionary (dict) container, but the only difference is that a defaultdict will have a default value if that key has not been set yet. If you didn't use a defaultdict you'd have to check to see if that key exists, and if it doesn't, set it to what you want."
   ]
  },
  {
   "cell_type": "code",
   "execution_count": 56,
   "id": "595a4217",
   "metadata": {},
   "outputs": [
    {
     "name": "stdout",
     "output_type": "stream",
     "text": [
      "5 2\n",
      "a\n",
      "a\n",
      "b\n",
      "a\n",
      "b\n",
      "a\n",
      "1 2 4\n",
      "b\n",
      "3 5\n"
     ]
    }
   ],
   "source": [
    "from collections import defaultdict\n",
    "\n",
    "d = defaultdict(list)\n",
    "list1=[]\n",
    "n, m = map(int,input().split())\n",
    "for i in range(1, n+1):\n",
    "    d[input()].append(str(i))\n",
    "\n",
    "\n",
    "for i in range(m):\n",
    "    b = input()\n",
    "    if b in d: print(' '.join(d[b]))\n",
    "    else: print(-1)"
   ]
  },
  {
   "cell_type": "markdown",
   "id": "5304fff2",
   "metadata": {},
   "source": [
    "### Collections.deque()"
   ]
  },
  {
   "cell_type": "code",
   "execution_count": null,
   "id": "a715c3da",
   "metadata": {},
   "outputs": [],
   "source": [
    "6\n",
    "append 1\n",
    "append 2\n",
    "append 3\n",
    "appendleft 4\n",
    "pop\n",
    "popleft"
   ]
  },
  {
   "cell_type": "code",
   "execution_count": 61,
   "id": "c787b2a6",
   "metadata": {},
   "outputs": [
    {
     "name": "stdout",
     "output_type": "stream",
     "text": [
      "6\n",
      "append 1\n",
      "append 2\n",
      "append 3\n",
      "appendleft 4\n",
      "pop\n",
      "popleft\n",
      "1 2 "
     ]
    },
    {
     "data": {
      "text/plain": [
       "[None, None]"
      ]
     },
     "execution_count": 61,
     "metadata": {},
     "output_type": "execute_result"
    }
   ],
   "source": [
    "from collections import deque\n",
    "\n",
    "d = deque()\n",
    "\n",
    "n = int(input())\n",
    "for i in range(n):\n",
    "    data = input().split(' ')\n",
    "    if data[0] == 'append':\n",
    "        d.append(data[1])\n",
    "    elif data[0] == 'appendleft':\n",
    "        d.appendleft(data[1])\n",
    "    elif data[0] == 'pop':\n",
    "        d.pop()\n",
    "    else:\n",
    "        d.popleft()\n",
    " \n",
    "[print(elem, end = ' ') for elem in d]"
   ]
  },
  {
   "cell_type": "code",
   "execution_count": 62,
   "id": "59d56567",
   "metadata": {},
   "outputs": [
    {
     "name": "stdout",
     "output_type": "stream",
     "text": [
      "6\n",
      "append 1\n",
      "append 2\n",
      "append 3\n",
      "appendleft 4\n",
      "pop\n",
      "popleft\n",
      "1 2 "
     ]
    },
    {
     "data": {
      "text/plain": [
       "[None, None]"
      ]
     },
     "execution_count": 62,
     "metadata": {},
     "output_type": "execute_result"
    }
   ],
   "source": [
    "from collections import deque\n",
    "d = deque()\n",
    "for _ in range(int(input())):\n",
    "    cmd, *args = input().split()\n",
    "    getattr(d, cmd)(*args)\n",
    "[print(x, end=' ') for x in d]"
   ]
  },
  {
   "cell_type": "code",
   "execution_count": null,
   "id": "83b0bc52",
   "metadata": {},
   "outputs": [],
   "source": []
  }
 ],
 "metadata": {
  "kernelspec": {
   "display_name": "Python 3",
   "language": "python",
   "name": "python3"
  },
  "language_info": {
   "codemirror_mode": {
    "name": "ipython",
    "version": 3
   },
   "file_extension": ".py",
   "mimetype": "text/x-python",
   "name": "python",
   "nbconvert_exporter": "python",
   "pygments_lexer": "ipython3",
   "version": "3.8.8"
  }
 },
 "nbformat": 4,
 "nbformat_minor": 5
}

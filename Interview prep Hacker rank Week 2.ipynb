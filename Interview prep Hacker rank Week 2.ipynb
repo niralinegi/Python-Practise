{
 "cells": [
  {
   "cell_type": "markdown",
   "id": "bbe951df",
   "metadata": {},
   "source": [
    "### Sales by Match"
   ]
  },
  {
   "cell_type": "markdown",
   "id": "25f168c4",
   "metadata": {},
   "source": [
    "There is a large pile of socks that must be paired by color. Given an array of integers representing the color of each sock, determine how many pairs of socks with matching colors there are."
   ]
  },
  {
   "cell_type": "markdown",
   "id": "9cb0c796",
   "metadata": {},
   "source": [
    "Function Description\n",
    "\n",
    "Complete the sockMerchant function in the editor below.\n",
    "\n",
    "sockMerchant has the following parameter(s):\n",
    "\n",
    "int n: the number of socks in the pile\n",
    "int ar[n]: the colors of each sock\n",
    "Returns\n",
    "\n",
    "int: the number of pairs"
   ]
  },
  {
   "cell_type": "markdown",
   "id": "bc545acb",
   "metadata": {},
   "source": [
    "Sample Input\n",
    "\n",
    "STDIN                       Function\n",
    "-----                       --------\n",
    "9                           n = 9\n",
    "10 20 20 10 10 30 50 10 20  ar = [10, 20, 20, 10, 10, 30, 50, 10, 20]\n",
    "Sample Output\n",
    "\n",
    "3"
   ]
  },
  {
   "cell_type": "code",
   "execution_count": null,
   "id": "624018c9",
   "metadata": {},
   "outputs": [],
   "source": [
    "#\n",
    "# Complete the 'sockMerchant' function below.\n",
    "#\n",
    "# The function is expected to return an INTEGER.\n",
    "# The function accepts following parameters:\n",
    "#  1. INTEGER n\n",
    "#  2. INTEGER_ARRAY ar\n",
    "#\n",
    "\n",
    "def sockMerchant(n, ar):\n",
    "    count = 0\n",
    "    for sockType in set(ar):\n",
    "        count += ar.count(sockType)//2    \n",
    "    return count\n",
    "\n",
    "n = int(input().strip())\n",
    "\n",
    "ar = list(map(int, input().rstrip().split()))\n",
    "\n",
    "result = sockMerchant(n, ar)\n",
    "\n",
    "print(result)"
   ]
  },
  {
   "cell_type": "markdown",
   "id": "f4013e7e",
   "metadata": {},
   "source": [
    "### Zig Zag Sequence"
   ]
  },
  {
   "cell_type": "markdown",
   "id": "3a7cf449",
   "metadata": {},
   "source": [
    "In this challenge, the task is to debug the existing code to successfully execute all provided test files.\n",
    "\n",
    "Given an array of n distinct integers, transform the array into a zig zag sequence by permuting the array elements. A sequence will be called a zig zag sequence if the first k elements in the sequence are in increasing order and the last  elements are in decreasing order, where k = (n + 1)/2. You need to find the lexicographically smallest zig zag sequence of the given array.``"
   ]
  },
  {
   "cell_type": "code",
   "execution_count": 18,
   "id": "245c8e98",
   "metadata": {},
   "outputs": [
    {
     "name": "stdout",
     "output_type": "stream",
     "text": [
      "11\n",
      "1 2 3 4 5 6 7 8 9 10 11\n",
      "1 2 3 4 5 6 11 8 9 10 7\n"
     ]
    }
   ],
   "source": [
    "def findZigZagSequence(a, n):\n",
    "    a.sort()\n",
    "    mid = int((n + 1)/2)-1\n",
    "    a[mid], a[n-1] = a[n-1], a[mid]\n",
    "\n",
    "    st = mid + 1\n",
    "    ed = n - 2\n",
    "    while(st >= ed):\n",
    "        a[st], a[ed] = a[ed], a[st]\n",
    "        st = st + 1\n",
    "        ed = ed - 1\n",
    "\n",
    "    for i in range (n):\n",
    "        if i == n-1:\n",
    "            print(a[i])\n",
    "        else:\n",
    "            print(a[i], end = ' ')\n",
    "    return\n",
    "\n",
    "n = int(input())\n",
    "a = list(map(int, input().split()))\n",
    "findZigZagSequence(a, n)\n"
   ]
  },
  {
   "cell_type": "markdown",
   "id": "aa82cbb4",
   "metadata": {},
   "source": [
    "### Drawing Book"
   ]
  },
  {
   "cell_type": "markdown",
   "id": "7e23ce1e",
   "metadata": {},
   "source": [
    "Function Description\n",
    "\n",
    "Complete the pageCount function in the editor below.\n",
    "\n",
    "pageCount has the following parameter(s):\n",
    "\n",
    "int n: the number of pages in the book\n",
    "int p: the page number to turn to\n",
    "Returns\n",
    "\n",
    "int: the minimum number of pages to turn"
   ]
  },
  {
   "cell_type": "code",
   "execution_count": 19,
   "id": "15f9154c",
   "metadata": {},
   "outputs": [
    {
     "name": "stdout",
     "output_type": "stream",
     "text": [
      "5\n",
      "3\n",
      "1\n"
     ]
    }
   ],
   "source": [
    "#\n",
    "# Complete the 'pageCount' function below.\n",
    "#\n",
    "# The function is expected to return an INTEGER.\n",
    "# The function accepts following parameters:\n",
    "#  1. INTEGER n\n",
    "#  2. INTEGER p\n",
    "#\n",
    "\n",
    "def pageCount(n, p):\n",
    "    return min(p//2,n//2-p//2)\n",
    "\n",
    "n = int(input().strip())\n",
    "\n",
    "p = int(input().strip())\n",
    "result = pageCount(n, p)\n",
    "print(result)"
   ]
  },
  {
   "cell_type": "markdown",
   "id": "1a4626c5",
   "metadata": {},
   "source": [
    "### Tower Breakers"
   ]
  },
  {
   "cell_type": "code",
   "execution_count": 22,
   "id": "b04593f2",
   "metadata": {},
   "outputs": [
    {
     "name": "stdout",
     "output_type": "stream",
     "text": [
      "2\n",
      "2 2\n",
      "2\n",
      "1 4\n",
      "1\n"
     ]
    }
   ],
   "source": [
    "#\n",
    "# Complete the 'towerBreakers' function below.\n",
    "#\n",
    "# The function is expected to return an INTEGER.\n",
    "# The function accepts following parameters:\n",
    "#  1. INTEGER n\n",
    "#  2. INTEGER m\n",
    "#\n",
    "\n",
    "def towerBreakers(n, m):\n",
    "    return 2 if n%2==0 or m==1 else 1\n",
    "\n",
    "t = int(input().strip())\n",
    "\n",
    "for t_itr in range(t):\n",
    "    first_multiple_input = input().rstrip().split()\n",
    "\n",
    "    n = int(first_multiple_input[0])\n",
    "\n",
    "    m = int(first_multiple_input[1])\n",
    "\n",
    "    result = towerBreakers(n, m)\n",
    "    \n",
    "    print(result)"
   ]
  },
  {
   "cell_type": "markdown",
   "id": "7d9c378f",
   "metadata": {},
   "source": [
    "### Caesar Cipher"
   ]
  },
  {
   "cell_type": "markdown",
   "id": "138e133d",
   "metadata": {},
   "source": [
    "Shift the characters of the string by the number of integer passed. eg. s = nir-ali n = 2 o/p: pkt-cnk"
   ]
  },
  {
   "cell_type": "code",
   "execution_count": 30,
   "id": "a77323d5",
   "metadata": {},
   "outputs": [
    {
     "name": "stdout",
     "output_type": "stream",
     "text": [
      "1\n",
      "nir-ali\n",
      "2\n",
      "pkt-cnk\n"
     ]
    }
   ],
   "source": [
    "#\n",
    "# Complete the 'caesarCipher' function below.\n",
    "#\n",
    "# The function is expected to return a STRING.\n",
    "# The function accepts following parameters:\n",
    "#  1. STRING s\n",
    "#  2. INTEGER k\n",
    "#\n",
    "\n",
    "def caesarCipher(s, k):\n",
    "    s = list(s)\n",
    "    for i in range(0, len(s)):\n",
    "        if s[i].isupper():\n",
    "            s[i] = chr((((ord(s[i])-65)+k)%26)+65)\n",
    "        elif s[i].islower():\n",
    "            s[i] = chr((((ord(s[i])-97)+k)%26)+97)\n",
    "        else:\n",
    "            s[i] = chr(ord(s[i]))\n",
    "        \n",
    "    return \"\".join(s)\n",
    "        \n",
    "\n",
    "n = int(input().strip())\n",
    "\n",
    "s = input()\n",
    "\n",
    "k = int(input().strip())\n",
    "\n",
    "result = caesarCipher(s, k)\n",
    "print(result)"
   ]
  },
  {
   "cell_type": "markdown",
   "id": "28724384",
   "metadata": {},
   "source": [
    "### Max Min"
   ]
  },
  {
   "cell_type": "code",
   "execution_count": 33,
   "id": "c9436367",
   "metadata": {},
   "outputs": [
    {
     "name": "stdout",
     "output_type": "stream",
     "text": [
      "[1, 2, 3, 4, 5]\n"
     ]
    }
   ],
   "source": [
    "def removeDuplicates(nums):\n",
    "    result = []\n",
    "    for i in range(0, len(nums)):\n",
    "        if nums[i] not in result:\n",
    "            result.append(nums[i])\n",
    "    return result\n",
    "\n",
    "input = [1,1,2, 2, 3, 4 , 5, 5]\n",
    "print(removeDuplicates(input))"
   ]
  },
  {
   "cell_type": "markdown",
   "id": "e1340186",
   "metadata": {},
   "source": [
    "### Rotate Array"
   ]
  },
  {
   "cell_type": "code",
   "execution_count": 14,
   "id": "aba3a12d",
   "metadata": {},
   "outputs": [
    {
     "name": "stdout",
     "output_type": "stream",
     "text": [
      "3\n",
      "1,2,3,4,5,6,7\n",
      "[5, 6, 7, 1, 2, 3, 4]\n"
     ]
    }
   ],
   "source": [
    "def rotate(nums, k):\n",
    "    k = k % len(nums)\n",
    "        \n",
    "    l, r = 0, len(nums) - 1\n",
    "    loop(l, r)\n",
    "        \n",
    "    l, r = 0, k - 1\n",
    "    loop(l, r)\n",
    "        \n",
    "    l, r = k, len(nums) - 1\n",
    "    loop(l,r)\n",
    "        \n",
    "def loop(l,r):\n",
    "    while l < r:\n",
    "        nums[l], nums[r] = nums[r], nums[l]\n",
    "        l, r = l+1, r-1\n",
    "        \n",
    "k = int(input().strip())\n",
    "\n",
    "nums = list(map(int, input().rstrip().split(',')))\n",
    "\n",
    "rotate(nums, k)\n",
    "print(nums)"
   ]
  },
  {
   "cell_type": "code",
   "execution_count": null,
   "id": "d21bca67",
   "metadata": {},
   "outputs": [],
   "source": []
  }
 ],
 "metadata": {
  "kernelspec": {
   "display_name": "Python 3",
   "language": "python",
   "name": "python3"
  },
  "language_info": {
   "codemirror_mode": {
    "name": "ipython",
    "version": 3
   },
   "file_extension": ".py",
   "mimetype": "text/x-python",
   "name": "python",
   "nbconvert_exporter": "python",
   "pygments_lexer": "ipython3",
   "version": "3.8.8"
  }
 },
 "nbformat": 4,
 "nbformat_minor": 5
}

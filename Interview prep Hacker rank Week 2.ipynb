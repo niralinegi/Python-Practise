{
 "cells": [
  {
   "cell_type": "markdown",
   "id": "6c6fe0e0",
   "metadata": {},
   "source": [
    "### Sales by Match"
   ]
  },
  {
   "cell_type": "markdown",
   "id": "fcde0a31",
   "metadata": {},
   "source": [
    "There is a large pile of socks that must be paired by color. Given an array of integers representing the color of each sock, determine how many pairs of socks with matching colors there are."
   ]
  },
  {
   "cell_type": "markdown",
   "id": "f82c879e",
   "metadata": {},
   "source": [
    "Function Description\n",
    "\n",
    "Complete the sockMerchant function in the editor below.\n",
    "\n",
    "sockMerchant has the following parameter(s):\n",
    "\n",
    "int n: the number of socks in the pile\n",
    "int ar[n]: the colors of each sock\n",
    "Returns\n",
    "\n",
    "int: the number of pairs"
   ]
  },
  {
   "cell_type": "markdown",
   "id": "6c74557e",
   "metadata": {},
   "source": [
    "Sample Input\n",
    "\n",
    "STDIN                       Function\n",
    "-----                       --------\n",
    "9                           n = 9\n",
    "10 20 20 10 10 30 50 10 20  ar = [10, 20, 20, 10, 10, 30, 50, 10, 20]\n",
    "Sample Output\n",
    "\n",
    "3"
   ]
  },
  {
   "cell_type": "code",
   "execution_count": null,
   "id": "be6d96f3",
   "metadata": {},
   "outputs": [],
   "source": [
    "#\n",
    "# Complete the 'sockMerchant' function below.\n",
    "#\n",
    "# The function is expected to return an INTEGER.\n",
    "# The function accepts following parameters:\n",
    "#  1. INTEGER n\n",
    "#  2. INTEGER_ARRAY ar\n",
    "#\n",
    "\n",
    "def sockMerchant(n, ar):\n",
    "    count = 0\n",
    "    for sockType in set(ar):\n",
    "        count += ar.count(sockType)//2    \n",
    "    return count\n",
    "\n",
    "n = int(input().strip())\n",
    "\n",
    "ar = list(map(int, input().rstrip().split()))\n",
    "\n",
    "result = sockMerchant(n, ar)\n",
    "\n",
    "print(result)"
   ]
  },
  {
   "cell_type": "markdown",
   "id": "44a47b45",
   "metadata": {},
   "source": [
    "### Zig Zag Sequence"
   ]
  },
  {
   "cell_type": "markdown",
   "id": "bedced8b",
   "metadata": {},
   "source": [
    "In this challenge, the task is to debug the existing code to successfully execute all provided test files.\n",
    "\n",
    "Given an array of n distinct integers, transform the array into a zig zag sequence by permuting the array elements. A sequence will be called a zig zag sequence if the first k elements in the sequence are in increasing order and the last  elements are in decreasing order, where k = (n + 1)/2. You need to find the lexicographically smallest zig zag sequence of the given array.``"
   ]
  },
  {
   "cell_type": "code",
   "execution_count": 18,
   "id": "c9d919da",
   "metadata": {},
   "outputs": [
    {
     "name": "stdout",
     "output_type": "stream",
     "text": [
      "11\n",
      "1 2 3 4 5 6 7 8 9 10 11\n",
      "1 2 3 4 5 6 11 8 9 10 7\n"
     ]
    }
   ],
   "source": [
    "def findZigZagSequence(a, n):\n",
    "    a.sort()\n",
    "    mid = int((n + 1)/2)-1\n",
    "    a[mid], a[n-1] = a[n-1], a[mid]\n",
    "\n",
    "    st = mid + 1\n",
    "    ed = n - 2\n",
    "    while(st >= ed):\n",
    "        a[st], a[ed] = a[ed], a[st]\n",
    "        st = st + 1\n",
    "        ed = ed - 1\n",
    "\n",
    "    for i in range (n):\n",
    "        if i == n-1:\n",
    "            print(a[i])\n",
    "        else:\n",
    "            print(a[i], end = ' ')\n",
    "    return\n",
    "\n",
    "n = int(input())\n",
    "a = list(map(int, input().split()))\n",
    "findZigZagSequence(a, n)\n"
   ]
  },
  {
   "cell_type": "markdown",
   "id": "f631508f",
   "metadata": {},
   "source": [
    "### Drawing Book"
   ]
  },
  {
   "cell_type": "markdown",
   "id": "8b604f42",
   "metadata": {},
   "source": [
    "Function Description\n",
    "\n",
    "Complete the pageCount function in the editor below.\n",
    "\n",
    "pageCount has the following parameter(s):\n",
    "\n",
    "int n: the number of pages in the book\n",
    "int p: the page number to turn to\n",
    "Returns\n",
    "\n",
    "int: the minimum number of pages to turn"
   ]
  },
  {
   "cell_type": "code",
   "execution_count": 19,
   "id": "dec92a1e",
   "metadata": {},
   "outputs": [
    {
     "name": "stdout",
     "output_type": "stream",
     "text": [
      "5\n",
      "3\n",
      "1\n"
     ]
    }
   ],
   "source": [
    "#\n",
    "# Complete the 'pageCount' function below.\n",
    "#\n",
    "# The function is expected to return an INTEGER.\n",
    "# The function accepts following parameters:\n",
    "#  1. INTEGER n\n",
    "#  2. INTEGER p\n",
    "#\n",
    "\n",
    "def pageCount(n, p):\n",
    "    return min(p//2,n//2-p//2)\n",
    "\n",
    "n = int(input().strip())\n",
    "\n",
    "p = int(input().strip())\n",
    "result = pageCount(n, p)\n",
    "print(result)"
   ]
  },
  {
   "cell_type": "markdown",
   "id": "e94b83af",
   "metadata": {},
   "source": [
    "### Tower Breakers"
   ]
  },
  {
   "cell_type": "code",
   "execution_count": 22,
   "id": "1fec57dd",
   "metadata": {},
   "outputs": [
    {
     "name": "stdout",
     "output_type": "stream",
     "text": [
      "2\n",
      "2 2\n",
      "2\n",
      "1 4\n",
      "1\n"
     ]
    }
   ],
   "source": [
    "#\n",
    "# Complete the 'towerBreakers' function below.\n",
    "#\n",
    "# The function is expected to return an INTEGER.\n",
    "# The function accepts following parameters:\n",
    "#  1. INTEGER n\n",
    "#  2. INTEGER m\n",
    "#\n",
    "\n",
    "def towerBreakers(n, m):\n",
    "    return 2 if n%2==0 or m==1 else 1\n",
    "\n",
    "t = int(input().strip())\n",
    "\n",
    "for t_itr in range(t):\n",
    "    first_multiple_input = input().rstrip().split()\n",
    "\n",
    "    n = int(first_multiple_input[0])\n",
    "\n",
    "    m = int(first_multiple_input[1])\n",
    "\n",
    "    result = towerBreakers(n, m)\n",
    "    \n",
    "    print(result)"
   ]
  },
  {
   "cell_type": "markdown",
   "id": "87c86f3e",
   "metadata": {},
   "source": [
    "### Caesar Cipher"
   ]
  },
  {
   "cell_type": "markdown",
   "id": "96a5558c",
   "metadata": {},
   "source": [
    "Shift the characters of the string by the number of integer passed. eg. s = nir-ali n = 2 o/p: pkt-cnk"
   ]
  },
  {
   "cell_type": "code",
   "execution_count": 30,
   "id": "a963e5f7",
   "metadata": {},
   "outputs": [
    {
     "name": "stdout",
     "output_type": "stream",
     "text": [
      "1\n",
      "nir-ali\n",
      "2\n",
      "pkt-cnk\n"
     ]
    }
   ],
   "source": [
    "#\n",
    "# Complete the 'caesarCipher' function below.\n",
    "#\n",
    "# The function is expected to return a STRING.\n",
    "# The function accepts following parameters:\n",
    "#  1. STRING s\n",
    "#  2. INTEGER k\n",
    "#\n",
    "\n",
    "def caesarCipher(s, k):\n",
    "    s = list(s)\n",
    "    for i in range(0, len(s)):\n",
    "        if s[i].isupper():\n",
    "            s[i] = chr((((ord(s[i])-65)+k)%26)+65)\n",
    "        elif s[i].islower():\n",
    "            s[i] = chr((((ord(s[i])-97)+k)%26)+97)\n",
    "        else:\n",
    "            s[i] = chr(ord(s[i]))\n",
    "        \n",
    "    return \"\".join(s)\n",
    "        \n",
    "\n",
    "n = int(input().strip())\n",
    "\n",
    "s = input()\n",
    "\n",
    "k = int(input().strip())\n",
    "\n",
    "result = caesarCipher(s, k)\n",
    "print(result)"
   ]
  },
  {
   "cell_type": "code",
   "execution_count": 33,
   "id": "cedae495",
   "metadata": {},
   "outputs": [
    {
     "name": "stdout",
     "output_type": "stream",
     "text": [
      "[1, 2, 3, 4, 5]\n"
     ]
    }
   ],
   "source": [
    "def removeDuplicates(nums):\n",
    "    result = []\n",
    "    for i in range(0, len(nums)):\n",
    "        if nums[i] not in result:\n",
    "            result.append(nums[i])\n",
    "    return result\n",
    "\n",
    "input = [1,1,2, 2, 3, 4 , 5, 5]\n",
    "print(removeDuplicates(input))"
   ]
  },
  {
   "cell_type": "code",
   "execution_count": 14,
   "id": "75b1db11",
   "metadata": {},
   "outputs": [
    {
     "name": "stdout",
     "output_type": "stream",
     "text": [
      "3\n",
      "1,2,3,4,5,6,7\n",
      "[5, 6, 7, 1, 2, 3, 4]\n"
     ]
    }
   ],
   "source": [
    "def rotate(nums, k):\n",
    "    k = k % len(nums)\n",
    "        \n",
    "    l, r = 0, len(nums) - 1\n",
    "    loop(l, r)\n",
    "        \n",
    "    l, r = 0, k - 1\n",
    "    loop(l, r)\n",
    "        \n",
    "    l, r = k, len(nums) - 1\n",
    "    loop(l,r)\n",
    "        \n",
    "def loop(l,r):\n",
    "    while l < r:\n",
    "        nums[l], nums[r] = nums[r], nums[l]\n",
    "        l, r = l+1, r-1\n",
    "        \n",
    "k = int(input().strip())\n",
    "\n",
    "nums = list(map(int, input().rstrip().split(',')))\n",
    "\n",
    "rotate(nums, k)\n",
    "print(nums)"
   ]
  },
  {
   "cell_type": "markdown",
   "id": "fabf4acd",
   "metadata": {},
   "source": [
    "### Max Min"
   ]
  },
  {
   "cell_type": "markdown",
   "id": "7560f077",
   "metadata": {},
   "source": [
    "You are given a list of integers and a number k. Need to find the max(list[k:]) - min(list[k:])"
   ]
  },
  {
   "cell_type": "code",
   "execution_count": 5,
   "id": "bfd14ece",
   "metadata": {},
   "outputs": [
    {
     "name": "stdout",
     "output_type": "stream",
     "text": [
      "4\n",
      "2\n",
      "4\n",
      "3\n",
      "1\n",
      "2\n",
      "1\n"
     ]
    }
   ],
   "source": [
    "def maxMin(k, arr):\n",
    "    arr.sort()\n",
    "    #res = 0\n",
    "    res = [arr[i+k-1] - arr[i] for i in range(len(arr)-k+1)]\n",
    "    return min(res)\n",
    "        \n",
    "    \n",
    "n = int(input().strip())\n",
    "k = int(input().strip())\n",
    "arr = []\n",
    "for _ in range(n):\n",
    "    arr_item = int(input().strip())\n",
    "    arr.append(arr_item)\n",
    "    \n",
    "result = maxMin(k, arr)\n",
    "print(result)"
   ]
  },
  {
   "cell_type": "code",
   "execution_count": null,
   "id": "a90f3419",
   "metadata": {},
   "outputs": [],
   "source": []
  }
 ],
 "metadata": {
  "kernelspec": {
   "display_name": "Python 3",
   "language": "python",
   "name": "python3"
  },
  "language_info": {
   "codemirror_mode": {
    "name": "ipython",
    "version": 3
   },
   "file_extension": ".py",
   "mimetype": "text/x-python",
   "name": "python",
   "nbconvert_exporter": "python",
   "pygments_lexer": "ipython3",
   "version": "3.8.8"
  }
 },
 "nbformat": 4,
 "nbformat_minor": 5
}
